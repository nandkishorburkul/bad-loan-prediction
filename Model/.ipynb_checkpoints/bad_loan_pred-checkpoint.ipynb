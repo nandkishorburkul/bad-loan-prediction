{
 "cells": [
  {
   "cell_type": "markdown",
   "metadata": {},
   "source": [
    "# 1.Problem Statements :\n",
    "                 "
   ]
  },
  {
   "cell_type": "raw",
   "metadata": {},
   "source": [
    "To apply machine learning techniques to predict whether the loan will end up in \"Good\" or \"Bad\" status\n",
    "● Data contains complete loan data\n",
    "● Given data is labeled"
   ]
  },
  {
   "cell_type": "markdown",
   "metadata": {},
   "source": [
    "# Import Libraries"
   ]
  },
  {
   "cell_type": "code",
   "execution_count": 1,
   "metadata": {},
   "outputs": [],
   "source": [
    "import pandas as pd\n",
    "import numpy as np\n",
    "import matplotlib.pyplot as plt\n",
    "import seaborn as sns\n",
    "import warnings\n",
    "warnings.filterwarnings(\"ignore\")\n",
    "from sklearn.model_selection import train_test_split,GridSearchCV,RandomizedSearchCV,KFold\n",
    "from sklearn.preprocessing import LabelEncoder,RobustScaler,StandardScaler"
   ]
  },
  {
   "cell_type": "markdown",
   "metadata": {},
   "source": [
    "# 2. Data Gathering"
   ]
  },
  {
   "cell_type": "code",
   "execution_count": 2,
   "metadata": {},
   "outputs": [
    {
     "data": {
      "text/html": [
       "<div>\n",
       "<style scoped>\n",
       "    .dataframe tbody tr th:only-of-type {\n",
       "        vertical-align: middle;\n",
       "    }\n",
       "\n",
       "    .dataframe tbody tr th {\n",
       "        vertical-align: top;\n",
       "    }\n",
       "\n",
       "    .dataframe thead th {\n",
       "        text-align: right;\n",
       "    }\n",
       "</style>\n",
       "<table border=\"1\" class=\"dataframe\">\n",
       "  <thead>\n",
       "    <tr style=\"text-align: right;\">\n",
       "      <th></th>\n",
       "      <th>loan_amnt</th>\n",
       "      <th>term</th>\n",
       "      <th>int_rate</th>\n",
       "      <th>emp_length</th>\n",
       "      <th>home_ownership</th>\n",
       "      <th>annual_inc</th>\n",
       "      <th>purpose</th>\n",
       "      <th>addr_state</th>\n",
       "      <th>dti</th>\n",
       "      <th>delinq_2yrs</th>\n",
       "      <th>revol_util</th>\n",
       "      <th>total_acc</th>\n",
       "      <th>bad_loan</th>\n",
       "      <th>longest_credit_length</th>\n",
       "      <th>verification_status</th>\n",
       "    </tr>\n",
       "  </thead>\n",
       "  <tbody>\n",
       "    <tr>\n",
       "      <th>0</th>\n",
       "      <td>5000</td>\n",
       "      <td>36 months</td>\n",
       "      <td>10.65</td>\n",
       "      <td>10.0</td>\n",
       "      <td>RENT</td>\n",
       "      <td>24000.0</td>\n",
       "      <td>credit_card</td>\n",
       "      <td>AZ</td>\n",
       "      <td>27.65</td>\n",
       "      <td>0.0</td>\n",
       "      <td>83.7</td>\n",
       "      <td>9.0</td>\n",
       "      <td>0</td>\n",
       "      <td>26.0</td>\n",
       "      <td>verified</td>\n",
       "    </tr>\n",
       "    <tr>\n",
       "      <th>1</th>\n",
       "      <td>2500</td>\n",
       "      <td>60 months</td>\n",
       "      <td>15.27</td>\n",
       "      <td>0.0</td>\n",
       "      <td>RENT</td>\n",
       "      <td>30000.0</td>\n",
       "      <td>car</td>\n",
       "      <td>GA</td>\n",
       "      <td>1.00</td>\n",
       "      <td>0.0</td>\n",
       "      <td>9.4</td>\n",
       "      <td>4.0</td>\n",
       "      <td>1</td>\n",
       "      <td>12.0</td>\n",
       "      <td>verified</td>\n",
       "    </tr>\n",
       "    <tr>\n",
       "      <th>2</th>\n",
       "      <td>2400</td>\n",
       "      <td>36 months</td>\n",
       "      <td>15.96</td>\n",
       "      <td>10.0</td>\n",
       "      <td>RENT</td>\n",
       "      <td>12252.0</td>\n",
       "      <td>small_business</td>\n",
       "      <td>IL</td>\n",
       "      <td>8.72</td>\n",
       "      <td>0.0</td>\n",
       "      <td>98.5</td>\n",
       "      <td>10.0</td>\n",
       "      <td>0</td>\n",
       "      <td>10.0</td>\n",
       "      <td>not verified</td>\n",
       "    </tr>\n",
       "    <tr>\n",
       "      <th>3</th>\n",
       "      <td>10000</td>\n",
       "      <td>36 months</td>\n",
       "      <td>13.49</td>\n",
       "      <td>10.0</td>\n",
       "      <td>RENT</td>\n",
       "      <td>49200.0</td>\n",
       "      <td>other</td>\n",
       "      <td>CA</td>\n",
       "      <td>20.00</td>\n",
       "      <td>0.0</td>\n",
       "      <td>21.0</td>\n",
       "      <td>37.0</td>\n",
       "      <td>0</td>\n",
       "      <td>15.0</td>\n",
       "      <td>verified</td>\n",
       "    </tr>\n",
       "    <tr>\n",
       "      <th>4</th>\n",
       "      <td>5000</td>\n",
       "      <td>36 months</td>\n",
       "      <td>7.90</td>\n",
       "      <td>3.0</td>\n",
       "      <td>RENT</td>\n",
       "      <td>36000.0</td>\n",
       "      <td>wedding</td>\n",
       "      <td>AZ</td>\n",
       "      <td>11.20</td>\n",
       "      <td>0.0</td>\n",
       "      <td>28.3</td>\n",
       "      <td>12.0</td>\n",
       "      <td>0</td>\n",
       "      <td>7.0</td>\n",
       "      <td>verified</td>\n",
       "    </tr>\n",
       "  </tbody>\n",
       "</table>\n",
       "</div>"
      ],
      "text/plain": [
       "   loan_amnt       term  int_rate  emp_length home_ownership  annual_inc  \\\n",
       "0       5000  36 months     10.65        10.0           RENT     24000.0   \n",
       "1       2500  60 months     15.27         0.0           RENT     30000.0   \n",
       "2       2400  36 months     15.96        10.0           RENT     12252.0   \n",
       "3      10000  36 months     13.49        10.0           RENT     49200.0   \n",
       "4       5000  36 months      7.90         3.0           RENT     36000.0   \n",
       "\n",
       "          purpose addr_state    dti  delinq_2yrs  revol_util  total_acc  \\\n",
       "0     credit_card         AZ  27.65          0.0        83.7        9.0   \n",
       "1             car         GA   1.00          0.0         9.4        4.0   \n",
       "2  small_business         IL   8.72          0.0        98.5       10.0   \n",
       "3           other         CA  20.00          0.0        21.0       37.0   \n",
       "4         wedding         AZ  11.20          0.0        28.3       12.0   \n",
       "\n",
       "   bad_loan  longest_credit_length verification_status  \n",
       "0         0                   26.0            verified  \n",
       "1         1                   12.0            verified  \n",
       "2         0                   10.0        not verified  \n",
       "3         0                   15.0            verified  \n",
       "4         0                    7.0            verified  "
      ]
     },
     "execution_count": 2,
     "metadata": {},
     "output_type": "execute_result"
    }
   ],
   "source": [
    "df = pd.read_csv(\"loan.csv\")\n",
    "df.head()"
   ]
  },
  {
   "cell_type": "markdown",
   "metadata": {},
   "source": [
    "### 2.1 Data Information"
   ]
  },
  {
   "cell_type": "code",
   "execution_count": 3,
   "metadata": {},
   "outputs": [
    {
     "name": "stdout",
     "output_type": "stream",
     "text": [
      "(163987, 15)\n"
     ]
    }
   ],
   "source": [
    "print(df.shape)\n",
    "# No. of column = 15\n",
    "# No. of Rows = 169387\n",
    "# target_column = 1('bad_loan')"
   ]
  },
  {
   "cell_type": "code",
   "execution_count": 4,
   "metadata": {},
   "outputs": [
    {
     "name": "stdout",
     "output_type": "stream",
     "text": [
      "<class 'pandas.core.frame.DataFrame'>\n",
      "RangeIndex: 163987 entries, 0 to 163986\n",
      "Data columns (total 15 columns):\n",
      " #   Column                 Non-Null Count   Dtype  \n",
      "---  ------                 --------------   -----  \n",
      " 0   loan_amnt              163987 non-null  int64  \n",
      " 1   term                   163987 non-null  object \n",
      " 2   int_rate               163987 non-null  float64\n",
      " 3   emp_length             158183 non-null  float64\n",
      " 4   home_ownership         163987 non-null  object \n",
      " 5   annual_inc             163983 non-null  float64\n",
      " 6   purpose                163987 non-null  object \n",
      " 7   addr_state             163987 non-null  object \n",
      " 8   dti                    163987 non-null  float64\n",
      " 9   delinq_2yrs            163958 non-null  float64\n",
      " 10  revol_util             163794 non-null  float64\n",
      " 11  total_acc              163958 non-null  float64\n",
      " 12  bad_loan               163987 non-null  int64  \n",
      " 13  longest_credit_length  163958 non-null  float64\n",
      " 14  verification_status    163987 non-null  object \n",
      "dtypes: float64(8), int64(2), object(5)\n",
      "memory usage: 18.8+ MB\n",
      "None\n"
     ]
    }
   ],
   "source": [
    "# to check information\n",
    "print(df.info())\n",
    " "
   ]
  },
  {
   "cell_type": "code",
   "execution_count": 5,
   "metadata": {},
   "outputs": [
    {
     "name": "stdout",
     "output_type": "stream",
     "text": [
      "           loan_amnt       int_rate     emp_length    annual_inc  \\\n",
      "count  163987.000000  163987.000000  158183.000000  1.639830e+05   \n",
      "mean    13074.169141      13.715904       5.684353  7.191567e+04   \n",
      "std      7993.556189       4.391940       3.610664  5.907092e+04   \n",
      "min       500.000000       5.420000       0.000000  1.896000e+03   \n",
      "25%      7000.000000      10.650000       2.000000  4.500000e+04   \n",
      "50%     11325.000000      13.490000       6.000000  6.100000e+04   \n",
      "75%     18000.000000      16.320000      10.000000  8.500000e+04   \n",
      "max     35000.000000      26.060000      10.000000  7.141778e+06   \n",
      "\n",
      "                 dti    delinq_2yrs     revol_util      total_acc  \\\n",
      "count  163987.000000  163958.000000  163794.000000  163958.000000   \n",
      "mean       15.881530       0.227357      54.079173      24.579734   \n",
      "std         7.587668       0.694168      25.285367      11.685190   \n",
      "min         0.000000       0.000000       0.000000       1.000000   \n",
      "25%        10.230000       0.000000      35.600000      16.000000   \n",
      "50%        15.620000       0.000000      55.800000      23.000000   \n",
      "75%        21.260000       0.000000      74.200000      31.000000   \n",
      "max        39.990000      29.000000     150.700000     118.000000   \n",
      "\n",
      "            bad_loan  longest_credit_length  \n",
      "count  163987.000000          163958.000000  \n",
      "mean        0.183039              14.854274  \n",
      "std         0.386700               6.947733  \n",
      "min         0.000000               0.000000  \n",
      "25%         0.000000              10.000000  \n",
      "50%         0.000000              14.000000  \n",
      "75%         0.000000              18.000000  \n",
      "max         1.000000              65.000000  \n"
     ]
    }
   ],
   "source": [
    "# check description of numerical column only\n",
    "print(df.describe())"
   ]
  },
  {
   "cell_type": "code",
   "execution_count": 6,
   "metadata": {},
   "outputs": [
    {
     "name": "stdout",
     "output_type": "stream",
     "text": [
      "Cat_feture are :\n",
      " Index(['term', 'home_ownership', 'purpose', 'addr_state',\n",
      "       'verification_status'],\n",
      "      dtype='object') 5\n",
      "\n",
      "Num_feature are :\n",
      " Index(['loan_amnt', 'int_rate', 'emp_length', 'annual_inc', 'dti',\n",
      "       'delinq_2yrs', 'revol_util', 'total_acc', 'bad_loan',\n",
      "       'longest_credit_length'],\n",
      "      dtype='object') 10\n"
     ]
    }
   ],
   "source": [
    "# to check how many cat_feature and num_feature\n",
    "cat_feature = df.select_dtypes(include='object').columns\n",
    "print(\"Cat_feture are :\\n\",cat_feature,len(cat_feature))\n",
    "print()\n",
    "num_feature = df.select_dtypes(exclude=\"object\").columns\n",
    "print(\"Num_feature are :\\n\",num_feature,len(num_feature))"
   ]
  },
  {
   "cell_type": "markdown",
   "metadata": {},
   "source": [
    "#  3. Data Visualization: Exploratory Data Analysis"
   ]
  },
  {
   "cell_type": "markdown",
   "metadata": {},
   "source": [
    "### 3.1 Count of bad Loan"
   ]
  },
  {
   "cell_type": "code",
   "execution_count": 7,
   "metadata": {},
   "outputs": [
    {
     "data": {
      "image/png": "[encoded data removed]",
      "text/plain": [
       "<Figure size 360x360 with 1 Axes>"
      ]
     },
     "metadata": {
      "needs_background": "light"
     },
     "output_type": "display_data"
    }
   ],
   "source": [
    "plt.figure(figsize=(5,5))\n",
    "plt.title('Count of Bad Loan')\n",
    "sns.countplot(x=df['bad_loan'])\n",
    "plt.xticks(ticks=np.arange(2),labels = ['Good Customer','Bad Customer'])\n",
    "plt.show()"
   ]
  },
  {
   "cell_type": "code",
   "execution_count": 8,
   "metadata": {},
   "outputs": [
    {
     "data": {
      "text/plain": [
       "0    133971\n",
       "1     30016\n",
       "Name: bad_loan, dtype: int64"
      ]
     },
     "execution_count": 8,
     "metadata": {},
     "output_type": "execute_result"
    }
   ],
   "source": [
    "df['bad_loan'].value_counts()"
   ]
  },
  {
   "cell_type": "code",
   "execution_count": 9,
   "metadata": {
    "scrolled": true
   },
   "outputs": [
    {
     "data": {
      "text/plain": [
       "<AxesSubplot:ylabel='bad_loan'>"
      ]
     },
     "execution_count": 9,
     "metadata": {},
     "output_type": "execute_result"
    },
    {
     "data": {
      "image/png": "[encoded data removed]",
      "text/plain": [
       "<Figure size 432x288 with 1 Axes>"
      ]
     },
     "metadata": {},
     "output_type": "display_data"
    }
   ],
   "source": [
    "labels = ['Good Customer','Bad Customer']\n",
    "df['bad_loan'].value_counts().plot(kind ='pie',labels = labels,autopct='%1.1f%%')"
   ]
  },
  {
   "cell_type": "raw",
   "metadata": {},
   "source": [
    "Conclusion: Given Dataset  is imbalanced as bad customer are less than good customers\n",
    "Good customers : 81.70\n",
    "Bad Customers : 18.30\n",
    "\n",
    "    "
   ]
  },
  {
   "cell_type": "markdown",
   "metadata": {},
   "source": [
    "### 3.2 Distribution of Loan Amount"
   ]
  },
  {
   "cell_type": "code",
   "execution_count": 10,
   "metadata": {
    "scrolled": true
   },
   "outputs": [
    {
     "data": {
      "image/png": "[encoded data removed]",
      "text/plain": [
       "<Figure size 360x360 with 1 Axes>"
      ]
     },
     "metadata": {
      "needs_background": "light"
     },
     "output_type": "display_data"
    }
   ],
   "source": [
    "plt.figure(figsize=(5,5))\n",
    "plt.title('Histogram of Loan Amount')\n",
    "plt.hist(x=df['loan_amnt'])\n",
    "plt.xlabel(\"Loan_Amount\")\n",
    "plt.ylabel(\"No. of Customer\")\n",
    "plt.show()"
   ]
  },
  {
   "cell_type": "raw",
   "metadata": {},
   "source": [
    "Conclusion: It is conclude that major custor took in range of 5000-10000"
   ]
  },
  {
   "cell_type": "markdown",
   "metadata": {},
   "source": [
    "### 3.3 Count plot of term"
   ]
  },
  {
   "cell_type": "code",
   "execution_count": 11,
   "metadata": {},
   "outputs": [
    {
     "data": {
      "image/png": "[encoded data removed]",
      "text/plain": [
       "<Figure size 360x360 with 1 Axes>"
      ]
     },
     "metadata": {
      "needs_background": "light"
     },
     "output_type": "display_data"
    }
   ],
   "source": [
    "plt.figure(figsize=(5,5))\n",
    "plt.title('Count of Term')\n",
    "sns.countplot(x=df['term'])\n",
    "labels = df['term'].unique()\n",
    "\n",
    "plt.xticks(ticks=np.arange(2),labels=labels)\n",
    "plt.show()\n",
    "# df['term'].value_counts().plot(kind ='pie',labels = labels,autopct='%1.1f%%')"
   ]
  },
  {
   "cell_type": "raw",
   "metadata": {},
   "source": [
    "Conclusion : Major Loan took For 36 months about 80%"
   ]
  },
  {
   "cell_type": "markdown",
   "metadata": {},
   "source": [
    "### 3.5 Distribution of int_rate"
   ]
  },
  {
   "cell_type": "code",
   "execution_count": 12,
   "metadata": {},
   "outputs": [
    {
     "data": {
      "image/png": "[encoded data removed]",
      "text/plain": [
       "<Figure size 360x360 with 1 Axes>"
      ]
     },
     "metadata": {
      "needs_background": "light"
     },
     "output_type": "display_data"
    }
   ],
   "source": [
    "plt.figure(figsize=(5,5))\n",
    "plt.title('Histogram of int_rate')\n",
    "plt.hist(x=df['int_rate'])\n",
    "plt.xlabel('int_rate')\n",
    "plt.ylabel('Count')\n",
    "plt.show()"
   ]
  },
  {
   "cell_type": "raw",
   "metadata": {},
   "source": [
    "Conclusion:Major customer fot int_rate are betn 10-15"
   ]
  },
  {
   "cell_type": "markdown",
   "metadata": {},
   "source": [
    "### 3.6 Distribution of Emp_length"
   ]
  },
  {
   "cell_type": "code",
   "execution_count": 13,
   "metadata": {},
   "outputs": [
    {
     "data": {
      "image/png": "[encoded data removed]",
      "text/plain": [
       "<Figure size 360x360 with 1 Axes>"
      ]
     },
     "metadata": {
      "needs_background": "light"
     },
     "output_type": "display_data"
    }
   ],
   "source": [
    "plt.figure(figsize=(5,5))\n",
    "plt.title(\"Count of emp length\")\n",
    "sns.countplot(x=df['emp_length'])\n",
    "labels = df['emp_length'].unique()\n",
    "plt.xticks(ticks=np.arange(len(labels)))\n",
    "plt.show()"
   ]
  },
  {
   "cell_type": "raw",
   "metadata": {},
   "source": [
    "Conclusion:major number of customer emp_length are 10.0"
   ]
  },
  {
   "cell_type": "markdown",
   "metadata": {},
   "source": [
    "### 3.7 Distribution of Home-Ownership"
   ]
  },
  {
   "cell_type": "code",
   "execution_count": 14,
   "metadata": {},
   "outputs": [
    {
     "data": {
      "image/png": "[encoded data removed]",
      "text/plain": [
       "<Figure size 360x360 with 1 Axes>"
      ]
     },
     "metadata": {
      "needs_background": "light"
     },
     "output_type": "display_data"
    }
   ],
   "source": [
    "plt.figure(figsize=(5,5))\n",
    "plt.title('Count of home_ownership')\n",
    "sns.countplot(x=df['home_ownership'])\n",
    "labels = df['home_ownership'].unique()\n",
    "\n",
    "plt.xticks(ticks=np.arange(len(labels)))\n",
    "plt.show()"
   ]
  },
  {
   "cell_type": "raw",
   "metadata": {},
   "source": [
    "Conclusion: There are 5 unique value in the home_ownership columnn and major number oof customer available of rent and mortage catogary."
   ]
  },
  {
   "cell_type": "markdown",
   "metadata": {},
   "source": [
    "### 3.8 Distribution of Annual_income"
   ]
  },
  {
   "cell_type": "code",
   "execution_count": 15,
   "metadata": {},
   "outputs": [
    {
     "data": {
      "image/png": "[encoded data removed]",
      "text/plain": [
       "<Figure size 360x360 with 1 Axes>"
      ]
     },
     "metadata": {
      "needs_background": "light"
     },
     "output_type": "display_data"
    }
   ],
   "source": [
    "plt.figure(figsize=(5,5))\n",
    "plt.title('Histogram of annual_inc')\n",
    "plt.hist(x=df['annual_inc'])\n",
    "plt.show()"
   ]
  },
  {
   "cell_type": "raw",
   "metadata": {},
   "source": [
    "Conclusion: Outlier Present in the annual_income  \n",
    "    "
   ]
  },
  {
   "cell_type": "markdown",
   "metadata": {},
   "source": [
    "### 3.9 Distribution of purpose "
   ]
  },
  {
   "cell_type": "code",
   "execution_count": 16,
   "metadata": {},
   "outputs": [
    {
     "data": {
      "image/png": "[encoded data removed]",
      "text/plain": [
       "<Figure size 1440x720 with 1 Axes>"
      ]
     },
     "metadata": {
      "needs_background": "light"
     },
     "output_type": "display_data"
    }
   ],
   "source": [
    "plt.figure(figsize=(20,10))\n",
    "plt.title('Count plot of purpose')\n",
    "sns.countplot(x=df['purpose'])\n",
    "labels = df['purpose'].unique()\n",
    "\n",
    "plt.xticks(ticks=np.arange(len(labels)))\n",
    "plt.show()"
   ]
  },
  {
   "cell_type": "raw",
   "metadata": {},
   "source": [
    "Conclusion : Cat_feature present in purpose.major no. of customer belong to debt_consolidation and credit_card"
   ]
  },
  {
   "cell_type": "markdown",
   "metadata": {},
   "source": [
    "### 3.10 addr_state"
   ]
  },
  {
   "cell_type": "code",
   "execution_count": 17,
   "metadata": {},
   "outputs": [
    {
     "data": {
      "image/png": "[encoded data removed]",
      "text/plain": [
       "<Figure size 1440x720 with 1 Axes>"
      ]
     },
     "metadata": {
      "needs_background": "light"
     },
     "output_type": "display_data"
    }
   ],
   "source": [
    "plt.figure(figsize=(20,10))\n",
    "plt.title(\"Addr_state\")\n",
    "sns.countplot(x=df['addr_state'])\n",
    "labels = df['addr_state'].unique()\n",
    "\n",
    "plt.xticks(ticks=np.arange(len(labels)))\n",
    "plt.show()"
   ]
  },
  {
   "cell_type": "markdown",
   "metadata": {},
   "source": [
    "### 3.11 Distribution of Dti"
   ]
  },
  {
   "cell_type": "code",
   "execution_count": 18,
   "metadata": {},
   "outputs": [
    {
     "data": {
      "text/plain": [
       "<seaborn.axisgrid.FacetGrid at 0x1a9d561bd00>"
      ]
     },
     "execution_count": 18,
     "metadata": {},
     "output_type": "execute_result"
    },
    {
     "data": {
      "image/png": "[encoded data removed]",
      "text/plain": [
       "<Figure size 360x360 with 1 Axes>"
      ]
     },
     "metadata": {
      "needs_background": "light"
     },
     "output_type": "display_data"
    }
   ],
   "source": [
    "sns.displot(df['dti'],kde= True)"
   ]
  },
  {
   "cell_type": "raw",
   "metadata": {},
   "source": [
    "Conclusion: dti means debt to income ratio.lower dti is less risky"
   ]
  },
  {
   "cell_type": "markdown",
   "metadata": {},
   "source": [
    "# 4.Feature Engineering"
   ]
  },
  {
   "cell_type": "markdown",
   "metadata": {},
   "source": [
    "### 4.1 Check Null value and After Fill this Value Using mean or median"
   ]
  },
  {
   "cell_type": "code",
   "execution_count": 19,
   "metadata": {},
   "outputs": [],
   "source": [
    "df1 = df.copy()"
   ]
  },
  {
   "cell_type": "code",
   "execution_count": 20,
   "metadata": {},
   "outputs": [
    {
     "data": {
      "text/plain": [
       "loan_amnt                   0\n",
       "term                        0\n",
       "int_rate                    0\n",
       "emp_length               5804\n",
       "home_ownership              0\n",
       "annual_inc                  4\n",
       "purpose                     0\n",
       "addr_state                  0\n",
       "dti                         0\n",
       "delinq_2yrs                29\n",
       "revol_util                193\n",
       "total_acc                  29\n",
       "bad_loan                    0\n",
       "longest_credit_length      29\n",
       "verification_status         0\n",
       "dtype: int64"
      ]
     },
     "execution_count": 20,
     "metadata": {},
     "output_type": "execute_result"
    }
   ],
   "source": [
    "# check null values\n",
    "df1.isnull().sum()"
   ]
  },
  {
   "cell_type": "code",
   "execution_count": 21,
   "metadata": {},
   "outputs": [],
   "source": [
    "df1['emp_length'].fillna(df1['emp_length'].mean(),inplace=True)\n",
    "df1['annual_inc'].fillna(df1['annual_inc'].median(),inplace=True)\n",
    "df1['delinq_2yrs'].fillna(df1['delinq_2yrs'].median(),inplace=True)\n",
    "df1['revol_util'].fillna(df1['revol_util'].median(),inplace=True)\n",
    "df1['total_acc'].fillna(df1['total_acc'].median(),inplace=True)\n",
    "df1['longest_credit_length'].fillna(df1['longest_credit_length'].median(),inplace=True)\n"
   ]
  },
  {
   "cell_type": "code",
   "execution_count": 22,
   "metadata": {},
   "outputs": [
    {
     "data": {
      "text/plain": [
       "loan_amnt                0\n",
       "term                     0\n",
       "int_rate                 0\n",
       "emp_length               0\n",
       "home_ownership           0\n",
       "annual_inc               0\n",
       "purpose                  0\n",
       "addr_state               0\n",
       "dti                      0\n",
       "delinq_2yrs              0\n",
       "revol_util               0\n",
       "total_acc                0\n",
       "bad_loan                 0\n",
       "longest_credit_length    0\n",
       "verification_status      0\n",
       "dtype: int64"
      ]
     },
     "execution_count": 22,
     "metadata": {},
     "output_type": "execute_result"
    }
   ],
   "source": [
    "df1.isnull().sum()"
   ]
  },
  {
   "cell_type": "markdown",
   "metadata": {},
   "source": [
    "### 4.2 To Check Correlation about target_Column"
   ]
  },
  {
   "cell_type": "code",
   "execution_count": 23,
   "metadata": {},
   "outputs": [
    {
     "data": {
      "text/plain": [
       "<AxesSubplot:>"
      ]
     },
     "execution_count": 23,
     "metadata": {},
     "output_type": "execute_result"
    },
    {
     "data": {
      "image/png": "[encoded data removed]",
      "text/plain": [
       "<Figure size 720x720 with 2 Axes>"
      ]
     },
     "metadata": {
      "needs_background": "light"
     },
     "output_type": "display_data"
    }
   ],
   "source": [
    "data = df1.corr()\n",
    "plt.figure(figsize=(10,10))\n",
    "sns.heatmap(data,annot = True)"
   ]
  },
  {
   "cell_type": "raw",
   "metadata": {},
   "source": [
    "Conclusion : In the above heatmap of correlation, No or not properly corrlation bet the independent and target_feature(bad_loan).\n",
    "Due to above reason logistic_reg Algorithm not suitable for this data"
   ]
  },
  {
   "cell_type": "markdown",
   "metadata": {},
   "source": [
    "### 4.3  USE Encoding"
   ]
  },
  {
   "cell_type": "markdown",
   "metadata": {},
   "source": [
    "### first of all  check unique value in cat_column"
   ]
  },
  {
   "cell_type": "code",
   "execution_count": 24,
   "metadata": {},
   "outputs": [
    {
     "name": "stdout",
     "output_type": "stream",
     "text": [
      "Unique value of term :\n",
      " ['36 months' '60 months']\n",
      "_______________________________________________________________________\n",
      "\n",
      "Unique value of home_ownership :\n",
      " ['RENT' 'OWN' 'MORTGAGE' 'OTHER' 'NONE' 'ANY']\n",
      "_______________________________________________________________________\n",
      "\n",
      "Unique value of purpose :\n",
      " ['credit_card' 'car' 'small_business' 'other' 'wedding'\n",
      " 'debt_consolidation' 'home_improvement' 'major_purchase' 'medical'\n",
      " 'moving' 'vacation' 'house' 'renewable_energy' 'educational']\n",
      "_______________________________________________________________________\n",
      "\n",
      "Unique value of addr_state :\n",
      " ['AZ' 'GA' 'IL' 'CA' 'TX' 'VA' 'MO' 'CT' 'UT' 'FL' 'NY' 'PA' 'MN' 'NJ'\n",
      " 'OR' 'KY' 'OH' 'SC' 'RI' 'LA' 'MA' 'WA' 'WI' 'AL' 'NV' 'CO' 'MD' 'WV'\n",
      " 'VT' 'MI' 'DC' 'SD' 'NC' 'AR' 'KS' 'NM' 'HI' 'AK' 'OK' 'MT' 'WY' 'NH'\n",
      " 'DE' 'MS' 'TN' 'IA' 'NE' 'ID' 'IN' 'ME']\n",
      "_______________________________________________________________________\n",
      "\n",
      "Unique value of verification_status :\n",
      " ['verified' 'not verified']\n",
      "_______________________________________________________________________\n",
      "\n"
     ]
    }
   ],
   "source": [
    "def check_unique_values(x):\n",
    "    for i in cat_feature:\n",
    "        unique = x[i].unique()\n",
    "        print(f'Unique value of {i} :\\n {unique}')\n",
    "        print(\"_______________________________________________________________________\")\n",
    "        print()\n",
    "        \n",
    "check_unique_values(df1)        "
   ]
  },
  {
   "cell_type": "code",
   "execution_count": 25,
   "metadata": {},
   "outputs": [
    {
     "name": "stdout",
     "output_type": "stream",
     "text": [
      "<class 'pandas.core.frame.DataFrame'>\n",
      "RangeIndex: 163987 entries, 0 to 163986\n",
      "Data columns (total 15 columns):\n",
      " #   Column                 Non-Null Count   Dtype  \n",
      "---  ------                 --------------   -----  \n",
      " 0   loan_amnt              163987 non-null  int64  \n",
      " 1   term                   163987 non-null  int32  \n",
      " 2   int_rate               163987 non-null  float64\n",
      " 3   emp_length             163987 non-null  float64\n",
      " 4   home_ownership         163987 non-null  int32  \n",
      " 5   annual_inc             163987 non-null  float64\n",
      " 6   purpose                163987 non-null  int32  \n",
      " 7   addr_state             163987 non-null  int32  \n",
      " 8   dti                    163987 non-null  float64\n",
      " 9   delinq_2yrs            163987 non-null  float64\n",
      " 10  revol_util             163987 non-null  float64\n",
      " 11  total_acc              163987 non-null  float64\n",
      " 12  bad_loan               163987 non-null  int64  \n",
      " 13  longest_credit_length  163987 non-null  float64\n",
      " 14  verification_status    163987 non-null  int32  \n",
      "dtypes: float64(8), int32(5), int64(2)\n",
      "memory usage: 15.6 MB\n"
     ]
    }
   ],
   "source": [
    "# use label Encoder\n",
    "def label_encoder_feature(x):\n",
    "    label_en =LabelEncoder()\n",
    "    for column in cat_feature:\n",
    "        x[column] = label_en.fit_transform(x[column])\n",
    "    return x.info()\n",
    "        \n",
    "label_encoder_feature(df1)"
   ]
  },
  {
   "cell_type": "code",
   "execution_count": 26,
   "metadata": {},
   "outputs": [
    {
     "data": {
      "text/html": [
       "<div>\n",
       "<style scoped>\n",
       "    .dataframe tbody tr th:only-of-type {\n",
       "        vertical-align: middle;\n",
       "    }\n",
       "\n",
       "    .dataframe tbody tr th {\n",
       "        vertical-align: top;\n",
       "    }\n",
       "\n",
       "    .dataframe thead th {\n",
       "        text-align: right;\n",
       "    }\n",
       "</style>\n",
       "<table border=\"1\" class=\"dataframe\">\n",
       "  <thead>\n",
       "    <tr style=\"text-align: right;\">\n",
       "      <th></th>\n",
       "      <th>loan_amnt</th>\n",
       "      <th>term</th>\n",
       "      <th>int_rate</th>\n",
       "      <th>emp_length</th>\n",
       "      <th>home_ownership</th>\n",
       "      <th>annual_inc</th>\n",
       "      <th>purpose</th>\n",
       "      <th>addr_state</th>\n",
       "      <th>dti</th>\n",
       "      <th>delinq_2yrs</th>\n",
       "      <th>revol_util</th>\n",
       "      <th>total_acc</th>\n",
       "      <th>bad_loan</th>\n",
       "      <th>longest_credit_length</th>\n",
       "      <th>verification_status</th>\n",
       "    </tr>\n",
       "  </thead>\n",
       "  <tbody>\n",
       "    <tr>\n",
       "      <th>0</th>\n",
       "      <td>5000</td>\n",
       "      <td>0</td>\n",
       "      <td>10.65</td>\n",
       "      <td>10.0</td>\n",
       "      <td>5</td>\n",
       "      <td>24000.0</td>\n",
       "      <td>1</td>\n",
       "      <td>3</td>\n",
       "      <td>27.65</td>\n",
       "      <td>0.0</td>\n",
       "      <td>83.7</td>\n",
       "      <td>9.0</td>\n",
       "      <td>0</td>\n",
       "      <td>26.0</td>\n",
       "      <td>1</td>\n",
       "    </tr>\n",
       "    <tr>\n",
       "      <th>1</th>\n",
       "      <td>2500</td>\n",
       "      <td>1</td>\n",
       "      <td>15.27</td>\n",
       "      <td>0.0</td>\n",
       "      <td>5</td>\n",
       "      <td>30000.0</td>\n",
       "      <td>0</td>\n",
       "      <td>10</td>\n",
       "      <td>1.00</td>\n",
       "      <td>0.0</td>\n",
       "      <td>9.4</td>\n",
       "      <td>4.0</td>\n",
       "      <td>1</td>\n",
       "      <td>12.0</td>\n",
       "      <td>1</td>\n",
       "    </tr>\n",
       "    <tr>\n",
       "      <th>2</th>\n",
       "      <td>2400</td>\n",
       "      <td>0</td>\n",
       "      <td>15.96</td>\n",
       "      <td>10.0</td>\n",
       "      <td>5</td>\n",
       "      <td>12252.0</td>\n",
       "      <td>11</td>\n",
       "      <td>14</td>\n",
       "      <td>8.72</td>\n",
       "      <td>0.0</td>\n",
       "      <td>98.5</td>\n",
       "      <td>10.0</td>\n",
       "      <td>0</td>\n",
       "      <td>10.0</td>\n",
       "      <td>0</td>\n",
       "    </tr>\n",
       "    <tr>\n",
       "      <th>3</th>\n",
       "      <td>10000</td>\n",
       "      <td>0</td>\n",
       "      <td>13.49</td>\n",
       "      <td>10.0</td>\n",
       "      <td>5</td>\n",
       "      <td>49200.0</td>\n",
       "      <td>9</td>\n",
       "      <td>4</td>\n",
       "      <td>20.00</td>\n",
       "      <td>0.0</td>\n",
       "      <td>21.0</td>\n",
       "      <td>37.0</td>\n",
       "      <td>0</td>\n",
       "      <td>15.0</td>\n",
       "      <td>1</td>\n",
       "    </tr>\n",
       "    <tr>\n",
       "      <th>4</th>\n",
       "      <td>5000</td>\n",
       "      <td>0</td>\n",
       "      <td>7.90</td>\n",
       "      <td>3.0</td>\n",
       "      <td>5</td>\n",
       "      <td>36000.0</td>\n",
       "      <td>13</td>\n",
       "      <td>3</td>\n",
       "      <td>11.20</td>\n",
       "      <td>0.0</td>\n",
       "      <td>28.3</td>\n",
       "      <td>12.0</td>\n",
       "      <td>0</td>\n",
       "      <td>7.0</td>\n",
       "      <td>1</td>\n",
       "    </tr>\n",
       "    <tr>\n",
       "      <th>...</th>\n",
       "      <td>...</td>\n",
       "      <td>...</td>\n",
       "      <td>...</td>\n",
       "      <td>...</td>\n",
       "      <td>...</td>\n",
       "      <td>...</td>\n",
       "      <td>...</td>\n",
       "      <td>...</td>\n",
       "      <td>...</td>\n",
       "      <td>...</td>\n",
       "      <td>...</td>\n",
       "      <td>...</td>\n",
       "      <td>...</td>\n",
       "      <td>...</td>\n",
       "      <td>...</td>\n",
       "    </tr>\n",
       "    <tr>\n",
       "      <th>163982</th>\n",
       "      <td>15000</td>\n",
       "      <td>1</td>\n",
       "      <td>12.39</td>\n",
       "      <td>3.0</td>\n",
       "      <td>1</td>\n",
       "      <td>45000.0</td>\n",
       "      <td>1</td>\n",
       "      <td>35</td>\n",
       "      <td>31.44</td>\n",
       "      <td>4.0</td>\n",
       "      <td>75.8</td>\n",
       "      <td>34.0</td>\n",
       "      <td>0</td>\n",
       "      <td>20.0</td>\n",
       "      <td>0</td>\n",
       "    </tr>\n",
       "    <tr>\n",
       "      <th>163983</th>\n",
       "      <td>20000</td>\n",
       "      <td>0</td>\n",
       "      <td>14.99</td>\n",
       "      <td>10.0</td>\n",
       "      <td>4</td>\n",
       "      <td>80000.0</td>\n",
       "      <td>4</td>\n",
       "      <td>44</td>\n",
       "      <td>23.65</td>\n",
       "      <td>0.0</td>\n",
       "      <td>68.8</td>\n",
       "      <td>18.0</td>\n",
       "      <td>0</td>\n",
       "      <td>22.0</td>\n",
       "      <td>1</td>\n",
       "    </tr>\n",
       "    <tr>\n",
       "      <th>163984</th>\n",
       "      <td>12825</td>\n",
       "      <td>0</td>\n",
       "      <td>17.14</td>\n",
       "      <td>6.0</td>\n",
       "      <td>1</td>\n",
       "      <td>38000.0</td>\n",
       "      <td>2</td>\n",
       "      <td>42</td>\n",
       "      <td>9.03</td>\n",
       "      <td>0.0</td>\n",
       "      <td>70.7</td>\n",
       "      <td>24.0</td>\n",
       "      <td>0</td>\n",
       "      <td>9.0</td>\n",
       "      <td>0</td>\n",
       "    </tr>\n",
       "    <tr>\n",
       "      <th>163985</th>\n",
       "      <td>27650</td>\n",
       "      <td>1</td>\n",
       "      <td>21.99</td>\n",
       "      <td>0.0</td>\n",
       "      <td>5</td>\n",
       "      <td>60000.0</td>\n",
       "      <td>1</td>\n",
       "      <td>33</td>\n",
       "      <td>10.10</td>\n",
       "      <td>1.0</td>\n",
       "      <td>61.2</td>\n",
       "      <td>20.0</td>\n",
       "      <td>0</td>\n",
       "      <td>6.0</td>\n",
       "      <td>1</td>\n",
       "    </tr>\n",
       "    <tr>\n",
       "      <th>163986</th>\n",
       "      <td>17000</td>\n",
       "      <td>1</td>\n",
       "      <td>15.99</td>\n",
       "      <td>10.0</td>\n",
       "      <td>1</td>\n",
       "      <td>63078.0</td>\n",
       "      <td>2</td>\n",
       "      <td>37</td>\n",
       "      <td>31.70</td>\n",
       "      <td>0.0</td>\n",
       "      <td>54.0</td>\n",
       "      <td>28.0</td>\n",
       "      <td>0</td>\n",
       "      <td>16.0</td>\n",
       "      <td>1</td>\n",
       "    </tr>\n",
       "  </tbody>\n",
       "</table>\n",
       "<p>163987 rows × 15 columns</p>\n",
       "</div>"
      ],
      "text/plain": [
       "        loan_amnt  term  int_rate  emp_length  home_ownership  annual_inc  \\\n",
       "0            5000     0     10.65        10.0               5     24000.0   \n",
       "1            2500     1     15.27         0.0               5     30000.0   \n",
       "2            2400     0     15.96        10.0               5     12252.0   \n",
       "3           10000     0     13.49        10.0               5     49200.0   \n",
       "4            5000     0      7.90         3.0               5     36000.0   \n",
       "...           ...   ...       ...         ...             ...         ...   \n",
       "163982      15000     1     12.39         3.0               1     45000.0   \n",
       "163983      20000     0     14.99        10.0               4     80000.0   \n",
       "163984      12825     0     17.14         6.0               1     38000.0   \n",
       "163985      27650     1     21.99         0.0               5     60000.0   \n",
       "163986      17000     1     15.99        10.0               1     63078.0   \n",
       "\n",
       "        purpose  addr_state    dti  delinq_2yrs  revol_util  total_acc  \\\n",
       "0             1           3  27.65          0.0        83.7        9.0   \n",
       "1             0          10   1.00          0.0         9.4        4.0   \n",
       "2            11          14   8.72          0.0        98.5       10.0   \n",
       "3             9           4  20.00          0.0        21.0       37.0   \n",
       "4            13           3  11.20          0.0        28.3       12.0   \n",
       "...         ...         ...    ...          ...         ...        ...   \n",
       "163982        1          35  31.44          4.0        75.8       34.0   \n",
       "163983        4          44  23.65          0.0        68.8       18.0   \n",
       "163984        2          42   9.03          0.0        70.7       24.0   \n",
       "163985        1          33  10.10          1.0        61.2       20.0   \n",
       "163986        2          37  31.70          0.0        54.0       28.0   \n",
       "\n",
       "        bad_loan  longest_credit_length  verification_status  \n",
       "0              0                   26.0                    1  \n",
       "1              1                   12.0                    1  \n",
       "2              0                   10.0                    0  \n",
       "3              0                   15.0                    1  \n",
       "4              0                    7.0                    1  \n",
       "...          ...                    ...                  ...  \n",
       "163982         0                   20.0                    0  \n",
       "163983         0                   22.0                    1  \n",
       "163984         0                    9.0                    0  \n",
       "163985         0                    6.0                    1  \n",
       "163986         0                   16.0                    1  \n",
       "\n",
       "[163987 rows x 15 columns]"
      ]
     },
     "execution_count": 26,
     "metadata": {},
     "output_type": "execute_result"
    }
   ],
   "source": [
    "df1"
   ]
  },
  {
   "cell_type": "raw",
   "metadata": {},
   "source": [
    "Conclusion: By using Encoding all cat_feature is convert into num_feature"
   ]
  },
  {
   "cell_type": "code",
   "execution_count": null,
   "metadata": {},
   "outputs": [],
   "source": []
  },
  {
   "cell_type": "code",
   "execution_count": null,
   "metadata": {},
   "outputs": [],
   "source": []
  },
  {
   "cell_type": "markdown",
   "metadata": {},
   "source": [
    "## 4.4 Check Outlier"
   ]
  },
  {
   "cell_type": "code",
   "execution_count": 27,
   "metadata": {},
   "outputs": [],
   "source": [
    "def check_outlier(df1):\n",
    "    for i in num_feature:\n",
    "        plt.figure(figsize=(5,5))\n",
    "        plt.title(i)\n",
    "        sns.boxplot(y=df[i])\n",
    "        plt.show()\n",
    "        \n"
   ]
  },
  {
   "cell_type": "code",
   "execution_count": 28,
   "metadata": {},
   "outputs": [
    {
     "data": {
      "image/png": "[encoded data removed]",
      "text/plain": [
       "<Figure size 360x360 with 1 Axes>"
      ]
     },
     "metadata": {
      "needs_background": "light"
     },
     "output_type": "display_data"
    },
    {
     "data": {
      "image/png": "[encoded data removed]",
      "text/plain": [
       "<Figure size 360x360 with 1 Axes>"
      ]
     },
     "metadata": {
      "needs_background": "light"
     },
     "output_type": "display_data"
    },
    {
     "data": {
      "image/png": "[encoded data removed]",
      "text/plain": [
       "<Figure size 360x360 with 1 Axes>"
      ]
     },
     "metadata": {
      "needs_background": "light"
     },
     "output_type": "display_data"
    },
    {
     "data": {
      "image/png": "[encoded data removed]",
      "text/plain": [
       "<Figure size 360x360 with 1 Axes>"
      ]
     },
     "metadata": {
      "needs_background": "light"
     },
     "output_type": "display_data"
    },
    {
     "data": {
      "image/png": "[encoded data removed]",
      "text/plain": [
       "<Figure size 360x360 with 1 Axes>"
      ]
     },
     "metadata": {
      "needs_background": "light"
     },
     "output_type": "display_data"
    },
    {
     "data": {
      "image/png": "[encoded data removed]",
      "text/plain": [
       "<Figure size 360x360 with 1 Axes>"
      ]
     },
     "metadata": {
      "needs_background": "light"
     },
     "output_type": "display_data"
    },
    {
     "data": {
      "image/png": "[encoded data removed]",
      "text/plain": [
       "<Figure size 360x360 with 1 Axes>"
      ]
     },
     "metadata": {
      "needs_background": "light"
     },
     "output_type": "display_data"
    },
    {
     "data": {
      "image/png": "[encoded data removed]",
      "text/plain": [
       "<Figure size 360x360 with 1 Axes>"
      ]
     },
     "metadata": {
      "needs_background": "light"
     },
     "output_type": "display_data"
    },
    {
     "data": {
      "image/png": "[encoded data removed]",
      "text/plain": [
       "<Figure size 360x360 with 1 Axes>"
      ]
     },
     "metadata": {
      "needs_background": "light"
     },
     "output_type": "display_data"
    },
    {
     "data": {
      "image/png": "[encoded data removed]",
      "text/plain": [
       "<Figure size 360x360 with 1 Axes>"
      ]
     },
     "metadata": {
      "needs_background": "light"
     },
     "output_type": "display_data"
    }
   ],
   "source": [
    "check_outlier(df1)"
   ]
  },
  {
   "cell_type": "code",
   "execution_count": 29,
   "metadata": {},
   "outputs": [],
   "source": [
    "# to Normalize annual income  then we have aply log_transform\n",
    "df1['annual_inc'] = np.log(df1['annual_inc'])"
   ]
  },
  {
   "cell_type": "code",
   "execution_count": 30,
   "metadata": {},
   "outputs": [
    {
     "data": {
      "text/plain": [
       "<AxesSubplot:ylabel='annual_inc'>"
      ]
     },
     "execution_count": 30,
     "metadata": {},
     "output_type": "execute_result"
    },
    {
     "data": {
      "image/png": "[encoded data removed]",
      "text/plain": [
       "<Figure size 360x360 with 1 Axes>"
      ]
     },
     "metadata": {
      "needs_background": "light"
     },
     "output_type": "display_data"
    }
   ],
   "source": [
    "# After using log transform\n",
    "plt.figure(figsize=(5,5))\n",
    "sns.boxplot(y=df1['annual_inc'])\n"
   ]
  },
  {
   "cell_type": "markdown",
   "metadata": {},
   "source": [
    "#### Handling outlier"
   ]
  },
  {
   "cell_type": "raw",
   "metadata": {},
   "source": [
    "# to remove outlier effect  by using the robust scaler behind the concept of robustscaler is IQR"
   ]
  },
  {
   "cell_type": "code",
   "execution_count": 31,
   "metadata": {},
   "outputs": [
    {
     "data": {
      "text/html": [
       "<div>\n",
       "<style scoped>\n",
       "    .dataframe tbody tr th:only-of-type {\n",
       "        vertical-align: middle;\n",
       "    }\n",
       "\n",
       "    .dataframe tbody tr th {\n",
       "        vertical-align: top;\n",
       "    }\n",
       "\n",
       "    .dataframe thead th {\n",
       "        text-align: right;\n",
       "    }\n",
       "</style>\n",
       "<table border=\"1\" class=\"dataframe\">\n",
       "  <thead>\n",
       "    <tr style=\"text-align: right;\">\n",
       "      <th></th>\n",
       "      <th>loan_amnt</th>\n",
       "      <th>term</th>\n",
       "      <th>int_rate</th>\n",
       "      <th>emp_length</th>\n",
       "      <th>home_ownership</th>\n",
       "      <th>annual_inc</th>\n",
       "      <th>purpose</th>\n",
       "      <th>addr_state</th>\n",
       "      <th>dti</th>\n",
       "      <th>delinq_2yrs</th>\n",
       "      <th>revol_util</th>\n",
       "      <th>total_acc</th>\n",
       "      <th>bad_loan</th>\n",
       "      <th>longest_credit_length</th>\n",
       "      <th>verification_status</th>\n",
       "    </tr>\n",
       "  </thead>\n",
       "  <tbody>\n",
       "    <tr>\n",
       "      <th>0</th>\n",
       "      <td>-0.575000</td>\n",
       "      <td>0.0</td>\n",
       "      <td>-0.500882</td>\n",
       "      <td>0.539456</td>\n",
       "      <td>0.25</td>\n",
       "      <td>-1.466724</td>\n",
       "      <td>-1.0</td>\n",
       "      <td>-0.678571</td>\n",
       "      <td>1.090662</td>\n",
       "      <td>0.0</td>\n",
       "      <td>0.722798</td>\n",
       "      <td>-0.933333</td>\n",
       "      <td>0.0</td>\n",
       "      <td>1.500</td>\n",
       "      <td>0.0</td>\n",
       "    </tr>\n",
       "    <tr>\n",
       "      <th>1</th>\n",
       "      <td>-0.802273</td>\n",
       "      <td>1.0</td>\n",
       "      <td>0.313933</td>\n",
       "      <td>-0.710544</td>\n",
       "      <td>0.25</td>\n",
       "      <td>-1.115863</td>\n",
       "      <td>-2.0</td>\n",
       "      <td>-0.428571</td>\n",
       "      <td>-1.325476</td>\n",
       "      <td>0.0</td>\n",
       "      <td>-1.202073</td>\n",
       "      <td>-1.266667</td>\n",
       "      <td>1.0</td>\n",
       "      <td>-0.250</td>\n",
       "      <td>0.0</td>\n",
       "    </tr>\n",
       "    <tr>\n",
       "      <th>2</th>\n",
       "      <td>-0.811364</td>\n",
       "      <td>0.0</td>\n",
       "      <td>0.435626</td>\n",
       "      <td>0.539456</td>\n",
       "      <td>0.25</td>\n",
       "      <td>-2.523920</td>\n",
       "      <td>9.0</td>\n",
       "      <td>-0.285714</td>\n",
       "      <td>-0.625567</td>\n",
       "      <td>0.0</td>\n",
       "      <td>1.106218</td>\n",
       "      <td>-0.866667</td>\n",
       "      <td>0.0</td>\n",
       "      <td>-0.500</td>\n",
       "      <td>-1.0</td>\n",
       "    </tr>\n",
       "    <tr>\n",
       "      <th>3</th>\n",
       "      <td>-0.120455</td>\n",
       "      <td>0.0</td>\n",
       "      <td>0.000000</td>\n",
       "      <td>0.539456</td>\n",
       "      <td>0.25</td>\n",
       "      <td>-0.338025</td>\n",
       "      <td>7.0</td>\n",
       "      <td>-0.642857</td>\n",
       "      <td>0.397099</td>\n",
       "      <td>0.0</td>\n",
       "      <td>-0.901554</td>\n",
       "      <td>0.933333</td>\n",
       "      <td>0.0</td>\n",
       "      <td>0.125</td>\n",
       "      <td>0.0</td>\n",
       "    </tr>\n",
       "    <tr>\n",
       "      <th>4</th>\n",
       "      <td>-0.575000</td>\n",
       "      <td>0.0</td>\n",
       "      <td>-0.985891</td>\n",
       "      <td>-0.335544</td>\n",
       "      <td>0.25</td>\n",
       "      <td>-0.829189</td>\n",
       "      <td>11.0</td>\n",
       "      <td>-0.678571</td>\n",
       "      <td>-0.400725</td>\n",
       "      <td>0.0</td>\n",
       "      <td>-0.712435</td>\n",
       "      <td>-0.733333</td>\n",
       "      <td>0.0</td>\n",
       "      <td>-0.875</td>\n",
       "      <td>0.0</td>\n",
       "    </tr>\n",
       "    <tr>\n",
       "      <th>...</th>\n",
       "      <td>...</td>\n",
       "      <td>...</td>\n",
       "      <td>...</td>\n",
       "      <td>...</td>\n",
       "      <td>...</td>\n",
       "      <td>...</td>\n",
       "      <td>...</td>\n",
       "      <td>...</td>\n",
       "      <td>...</td>\n",
       "      <td>...</td>\n",
       "      <td>...</td>\n",
       "      <td>...</td>\n",
       "      <td>...</td>\n",
       "      <td>...</td>\n",
       "      <td>...</td>\n",
       "    </tr>\n",
       "    <tr>\n",
       "      <th>163982</th>\n",
       "      <td>0.334091</td>\n",
       "      <td>1.0</td>\n",
       "      <td>-0.194004</td>\n",
       "      <td>-0.335544</td>\n",
       "      <td>-0.75</td>\n",
       "      <td>-0.478328</td>\n",
       "      <td>-1.0</td>\n",
       "      <td>0.464286</td>\n",
       "      <td>1.434270</td>\n",
       "      <td>4.0</td>\n",
       "      <td>0.518135</td>\n",
       "      <td>0.733333</td>\n",
       "      <td>0.0</td>\n",
       "      <td>0.750</td>\n",
       "      <td>-1.0</td>\n",
       "    </tr>\n",
       "    <tr>\n",
       "      <th>163983</th>\n",
       "      <td>0.788636</td>\n",
       "      <td>0.0</td>\n",
       "      <td>0.264550</td>\n",
       "      <td>0.539456</td>\n",
       "      <td>0.00</td>\n",
       "      <td>0.426348</td>\n",
       "      <td>2.0</td>\n",
       "      <td>0.785714</td>\n",
       "      <td>0.728015</td>\n",
       "      <td>0.0</td>\n",
       "      <td>0.336788</td>\n",
       "      <td>-0.333333</td>\n",
       "      <td>0.0</td>\n",
       "      <td>1.000</td>\n",
       "      <td>0.0</td>\n",
       "    </tr>\n",
       "    <tr>\n",
       "      <th>163984</th>\n",
       "      <td>0.136364</td>\n",
       "      <td>0.0</td>\n",
       "      <td>0.643739</td>\n",
       "      <td>0.039456</td>\n",
       "      <td>-0.75</td>\n",
       "      <td>-0.744176</td>\n",
       "      <td>0.0</td>\n",
       "      <td>0.714286</td>\n",
       "      <td>-0.597461</td>\n",
       "      <td>0.0</td>\n",
       "      <td>0.386010</td>\n",
       "      <td>0.066667</td>\n",
       "      <td>0.0</td>\n",
       "      <td>-0.625</td>\n",
       "      <td>-1.0</td>\n",
       "    </tr>\n",
       "    <tr>\n",
       "      <th>163985</th>\n",
       "      <td>1.484091</td>\n",
       "      <td>1.0</td>\n",
       "      <td>1.499118</td>\n",
       "      <td>-0.710544</td>\n",
       "      <td>0.25</td>\n",
       "      <td>-0.025990</td>\n",
       "      <td>-1.0</td>\n",
       "      <td>0.392857</td>\n",
       "      <td>-0.500453</td>\n",
       "      <td>1.0</td>\n",
       "      <td>0.139896</td>\n",
       "      <td>-0.200000</td>\n",
       "      <td>0.0</td>\n",
       "      <td>-1.000</td>\n",
       "      <td>0.0</td>\n",
       "    </tr>\n",
       "    <tr>\n",
       "      <th>163986</th>\n",
       "      <td>0.515909</td>\n",
       "      <td>1.0</td>\n",
       "      <td>0.440917</td>\n",
       "      <td>0.539456</td>\n",
       "      <td>-0.75</td>\n",
       "      <td>0.052671</td>\n",
       "      <td>0.0</td>\n",
       "      <td>0.535714</td>\n",
       "      <td>1.457842</td>\n",
       "      <td>0.0</td>\n",
       "      <td>-0.046632</td>\n",
       "      <td>0.333333</td>\n",
       "      <td>0.0</td>\n",
       "      <td>0.250</td>\n",
       "      <td>0.0</td>\n",
       "    </tr>\n",
       "  </tbody>\n",
       "</table>\n",
       "<p>163987 rows × 15 columns</p>\n",
       "</div>"
      ],
      "text/plain": [
       "        loan_amnt  term  int_rate  emp_length  home_ownership  annual_inc  \\\n",
       "0       -0.575000   0.0 -0.500882    0.539456            0.25   -1.466724   \n",
       "1       -0.802273   1.0  0.313933   -0.710544            0.25   -1.115863   \n",
       "2       -0.811364   0.0  0.435626    0.539456            0.25   -2.523920   \n",
       "3       -0.120455   0.0  0.000000    0.539456            0.25   -0.338025   \n",
       "4       -0.575000   0.0 -0.985891   -0.335544            0.25   -0.829189   \n",
       "...           ...   ...       ...         ...             ...         ...   \n",
       "163982   0.334091   1.0 -0.194004   -0.335544           -0.75   -0.478328   \n",
       "163983   0.788636   0.0  0.264550    0.539456            0.00    0.426348   \n",
       "163984   0.136364   0.0  0.643739    0.039456           -0.75   -0.744176   \n",
       "163985   1.484091   1.0  1.499118   -0.710544            0.25   -0.025990   \n",
       "163986   0.515909   1.0  0.440917    0.539456           -0.75    0.052671   \n",
       "\n",
       "        purpose  addr_state       dti  delinq_2yrs  revol_util  total_acc  \\\n",
       "0          -1.0   -0.678571  1.090662          0.0    0.722798  -0.933333   \n",
       "1          -2.0   -0.428571 -1.325476          0.0   -1.202073  -1.266667   \n",
       "2           9.0   -0.285714 -0.625567          0.0    1.106218  -0.866667   \n",
       "3           7.0   -0.642857  0.397099          0.0   -0.901554   0.933333   \n",
       "4          11.0   -0.678571 -0.400725          0.0   -0.712435  -0.733333   \n",
       "...         ...         ...       ...          ...         ...        ...   \n",
       "163982     -1.0    0.464286  1.434270          4.0    0.518135   0.733333   \n",
       "163983      2.0    0.785714  0.728015          0.0    0.336788  -0.333333   \n",
       "163984      0.0    0.714286 -0.597461          0.0    0.386010   0.066667   \n",
       "163985     -1.0    0.392857 -0.500453          1.0    0.139896  -0.200000   \n",
       "163986      0.0    0.535714  1.457842          0.0   -0.046632   0.333333   \n",
       "\n",
       "        bad_loan  longest_credit_length  verification_status  \n",
       "0            0.0                  1.500                  0.0  \n",
       "1            1.0                 -0.250                  0.0  \n",
       "2            0.0                 -0.500                 -1.0  \n",
       "3            0.0                  0.125                  0.0  \n",
       "4            0.0                 -0.875                  0.0  \n",
       "...          ...                    ...                  ...  \n",
       "163982       0.0                  0.750                 -1.0  \n",
       "163983       0.0                  1.000                  0.0  \n",
       "163984       0.0                 -0.625                 -1.0  \n",
       "163985       0.0                 -1.000                  0.0  \n",
       "163986       0.0                  0.250                  0.0  \n",
       "\n",
       "[163987 rows x 15 columns]"
      ]
     },
     "execution_count": 31,
     "metadata": {},
     "output_type": "execute_result"
    }
   ],
   "source": [
    "scaler = RobustScaler()\n",
    "df_robust = pd.DataFrame(scaler.fit_transform(df1),columns=df1.columns)\n",
    "df_robust"
   ]
  },
  {
   "cell_type": "markdown",
   "metadata": {},
   "source": [
    "# 5.Model Building"
   ]
  },
  {
   "cell_type": "code",
   "execution_count": 32,
   "metadata": {},
   "outputs": [],
   "source": [
    "x= df1.drop(['bad_loan'],axis=1)\n",
    "y= df1['bad_loan']"
   ]
  },
  {
   "cell_type": "code",
   "execution_count": 33,
   "metadata": {},
   "outputs": [],
   "source": [
    "# # use robustscaler df for  build model\n",
    "# x= df_robust.drop(['bad_loan'],axis=1)\n",
    "# y= df_robust['bad_loan']"
   ]
  },
  {
   "cell_type": "code",
   "execution_count": 34,
   "metadata": {},
   "outputs": [],
   "source": [
    "x_train,x_test,y_train,y_test = train_test_split(x,y,test_size=0.2,random_state=1)"
   ]
  },
  {
   "cell_type": "code",
   "execution_count": null,
   "metadata": {},
   "outputs": [],
   "source": []
  },
  {
   "cell_type": "markdown",
   "metadata": {},
   "source": [
    "## 5.1 Logistic Regression"
   ]
  },
  {
   "cell_type": "code",
   "execution_count": 35,
   "metadata": {},
   "outputs": [],
   "source": [
    "from sklearn.linear_model import LogisticRegression\n",
    "from sklearn.metrics import accuracy_score,confusion_matrix,classification_report"
   ]
  },
  {
   "cell_type": "code",
   "execution_count": 36,
   "metadata": {},
   "outputs": [
    {
     "data": {
      "text/plain": [
       "LogisticRegression()"
      ]
     },
     "execution_count": 36,
     "metadata": {},
     "output_type": "execute_result"
    }
   ],
   "source": [
    "lr_model = LogisticRegression()\n",
    "lr_model.fit(x_train,y_train)"
   ]
  },
  {
   "cell_type": "code",
   "execution_count": 37,
   "metadata": {},
   "outputs": [],
   "source": [
    "y_pred_lr = lr_model.predict(x_test)"
   ]
  },
  {
   "cell_type": "code",
   "execution_count": 78,
   "metadata": {},
   "outputs": [
    {
     "name": "stdout",
     "output_type": "stream",
     "text": [
      "Accuracy Score : 0.8179157265686932\n",
      "_____________________\n",
      "Confusion Matrix :\n",
      " [[26712   140]\n",
      " [ 5832   114]]\n",
      "_________________________\n",
      "Classification reeport :\n",
      "               precision    recall  f1-score   support\n",
      "\n",
      "           0       0.82      0.99      0.90     26852\n",
      "           1       0.45      0.02      0.04      5946\n",
      "\n",
      "    accuracy                           0.82     32798\n",
      "   macro avg       0.63      0.51      0.47     32798\n",
      "weighted avg       0.75      0.82      0.74     32798\n",
      "\n"
     ]
    }
   ],
   "source": [
    "acc_lr = accuracy_score(y_test,y_pred_lr)\n",
    "print(\"Accuracy Score :\",acc_lr)\n",
    "print(\"_____________________\")\n",
    "print(\"Confusion Matrix :\\n\",confusion_matrix(y_test,y_pred_lr))\n",
    "print(\"_________________________\")\n",
    "print(\"Classification reeport :\\n\",classification_report(y_test,y_pred_lr))\n"
   ]
  },
  {
   "cell_type": "raw",
   "metadata": {},
   "source": [
    "Final_Conclusion : Accuracy is better on logistic alg but it is  not suitable for Model build on this dataset, beacaue very poor correlation betn independent(All) and dependen column."
   ]
  },
  {
   "cell_type": "code",
   "execution_count": 39,
   "metadata": {},
   "outputs": [],
   "source": [
    "# Cross- Validation"
   ]
  },
  {
   "cell_type": "code",
   "execution_count": 40,
   "metadata": {},
   "outputs": [],
   "source": [
    "from sklearn.model_selection import StratifiedKFold"
   ]
  },
  {
   "cell_type": "code",
   "execution_count": 79,
   "metadata": {},
   "outputs": [
    {
     "name": "stdout",
     "output_type": "stream",
     "text": [
      "StratifiedKFold(n_splits=5, random_state=None, shuffle=False)\n",
      "\n",
      "1 of kfold 5 \n",
      "accuracy_score 0.8167266296725411\n",
      "\n",
      "2 of kfold 5 \n",
      "accuracy_score 0.8159948777364473\n",
      "\n",
      "3 of kfold 5 \n",
      "accuracy_score 0.8163856450285087\n",
      "\n",
      "4 of kfold 5 \n",
      "accuracy_score 0.8140988505046193\n",
      "\n",
      "5 of kfold 5 \n",
      "accuracy_score 0.8149830777205233\n",
      "\n",
      "Mean Validation Accuracy 0.8156378161325278\n"
     ]
    }
   ],
   "source": [
    "i = 1\n",
    "mean = 0\n",
    "\n",
    "kf = StratifiedKFold(n_splits=5)\n",
    "print(kf)\n",
    "for train_index,test_index in kf.split(x,y):\n",
    "#     print(test_index,len(test_index))\n",
    "#     print(train_index,len(train_index))\n",
    "    print ('\\n{} of kfold {} '.format(i,kf.n_splits))\n",
    "    x_trn,x_tst = x.loc[train_index],x.loc[test_index]\n",
    "    y_trn,y_tst = y[train_index],y[test_index]\n",
    "    model = LogisticRegression(random_state=1)\n",
    "    model.fit(x_trn,y_trn)\n",
    "    pred_test=model.predict(x_tst)\n",
    "    score=accuracy_score(y_tst,pred_test)\n",
    "    mean += score\n",
    "    print ('accuracy_score',score)\n",
    "    i+=1\n",
    "#     pred_test = model.predict(x_test)\n",
    "#     pred = model.predict_proba(xvl)[:,1]\n",
    "acc_lr_bst = mean/(i-1)\n",
    "print ('\\nMean Validation Accuracy',acc_lr_bst)\n"
   ]
  },
  {
   "cell_type": "markdown",
   "metadata": {},
   "source": [
    "# 5.2 Decision Tree"
   ]
  },
  {
   "cell_type": "code",
   "execution_count": 42,
   "metadata": {},
   "outputs": [],
   "source": [
    "from sklearn.tree import DecisionTreeClassifier"
   ]
  },
  {
   "cell_type": "code",
   "execution_count": 43,
   "metadata": {},
   "outputs": [
    {
     "data": {
      "text/plain": [
       "DecisionTreeClassifier(random_state=1)"
      ]
     },
     "execution_count": 43,
     "metadata": {},
     "output_type": "execute_result"
    }
   ],
   "source": [
    "dt_model = DecisionTreeClassifier(random_state=1)\n",
    "dt_model.fit(x_train,y_train)"
   ]
  },
  {
   "cell_type": "code",
   "execution_count": 44,
   "metadata": {},
   "outputs": [],
   "source": [
    "y_pred_dt = dt_model.predict(x_test)"
   ]
  },
  {
   "cell_type": "code",
   "execution_count": 80,
   "metadata": {},
   "outputs": [
    {
     "name": "stdout",
     "output_type": "stream",
     "text": [
      "Accuracy Score for dt : 0.7165375937557168\n",
      "_____________________\n",
      "Confusion Matrix dt:\n",
      " [[21940  4912]\n",
      " [ 4385  1561]]\n",
      "_________________________\n",
      "Classification reeport dt :\n",
      "               precision    recall  f1-score   support\n",
      "\n",
      "           0       0.83      0.82      0.83     26852\n",
      "           1       0.24      0.26      0.25      5946\n",
      "\n",
      "    accuracy                           0.72     32798\n",
      "   macro avg       0.54      0.54      0.54     32798\n",
      "weighted avg       0.73      0.72      0.72     32798\n",
      "\n"
     ]
    }
   ],
   "source": [
    "acc_dt = accuracy_score(y_test,y_pred_dt)\n",
    "print(\"Accuracy Score for dt :\",acc_dt)\n",
    "print(\"_____________________\")\n",
    "print(\"Confusion Matrix dt:\\n\",confusion_matrix(y_test,y_pred_dt))\n",
    "print(\"_________________________\")\n",
    "print(\"Classification reeport dt :\\n\",classification_report(y_test,y_pred_dt))\n"
   ]
  },
  {
   "cell_type": "code",
   "execution_count": 81,
   "metadata": {},
   "outputs": [
    {
     "name": "stdout",
     "output_type": "stream",
     "text": [
      "Accuracy Score on train dt : 1.0\n",
      "_____________________\n",
      "Confusion Matrix :\n",
      " [[107119      0]\n",
      " [     0  24070]]\n",
      "_________________________\n",
      "Classification reeport :\n",
      "               precision    recall  f1-score   support\n",
      "\n",
      "           0       1.00      1.00      1.00    107119\n",
      "           1       1.00      1.00      1.00     24070\n",
      "\n",
      "    accuracy                           1.00    131189\n",
      "   macro avg       1.00      1.00      1.00    131189\n",
      "weighted avg       1.00      1.00      1.00    131189\n",
      "\n"
     ]
    }
   ],
   "source": [
    "# to Check Accuracy on training data\n",
    "y_pred_train_dt = dt_model.predict(x_train)\n",
    "acc_trn_dt = accuracy_score(y_train,y_pred_train_dt)\n",
    "print(\"Accuracy Score on train dt :\",acc_trn_dt)\n",
    "print(\"_____________________\")\n",
    "print(\"Confusion Matrix :\\n\",confusion_matrix(y_train,y_pred_train_dt))\n",
    "print(\"_________________________\")\n",
    "print(\"Classification reeport :\\n\",classification_report(y_train,y_pred_train_dt))\n"
   ]
  },
  {
   "cell_type": "markdown",
   "metadata": {},
   "source": [
    "## Apply hyperparameter Tunning to Remove Overfitting Prob"
   ]
  },
  {
   "cell_type": "code",
   "execution_count": 47,
   "metadata": {},
   "outputs": [],
   "source": [
    "criterion = ['gini','entropy']\n",
    "max_depth = list(np.arange(1,10))\n",
    "random_state = list(np.arange(1,10))\n",
    "\n",
    "hyper ={'criterion':criterion,'max_depth':max_depth,'random_state':random_state}"
   ]
  },
  {
   "cell_type": "code",
   "execution_count": 48,
   "metadata": {},
   "outputs": [],
   "source": [
    "new_dt = DecisionTreeClassifier()\n",
    "rdm_dt = RandomizedSearchCV(new_dt,hyper,cv = 5)\n",
    "best_dt_model = rdm_dt.fit(x_train,y_train)"
   ]
  },
  {
   "cell_type": "code",
   "execution_count": 82,
   "metadata": {},
   "outputs": [
    {
     "name": "stdout",
     "output_type": "stream",
     "text": [
      "Accuracy Score for best_dt : 0.8187084578327947\n",
      "_____________________\n",
      "Confusion Matrix dt:\n",
      " [[26852     0]\n",
      " [ 5946     0]]\n",
      "_________________________\n",
      "Classification reeport dt :\n",
      "               precision    recall  f1-score   support\n",
      "\n",
      "           0       0.82      1.00      0.90     26852\n",
      "           1       0.00      0.00      0.00      5946\n",
      "\n",
      "    accuracy                           0.82     32798\n",
      "   macro avg       0.41      0.50      0.45     32798\n",
      "weighted avg       0.67      0.82      0.74     32798\n",
      "\n"
     ]
    }
   ],
   "source": [
    "y_best_pred_dt = best_dt_model.predict(x_test)\n",
    "acc_bst_dt = accuracy_score(y_test,y_best_pred_dt)\n",
    "print(\"Accuracy Score for best_dt :\",acc_bst_dt)\n",
    "print(\"_____________________\")\n",
    "print(\"Confusion Matrix dt:\\n\",confusion_matrix(y_test,y_best_pred_dt))\n",
    "print(\"_________________________\")\n",
    "print(\"Classification reeport dt :\\n\",classification_report(y_test,y_best_pred_dt))\n"
   ]
  },
  {
   "cell_type": "code",
   "execution_count": 83,
   "metadata": {},
   "outputs": [
    {
     "name": "stdout",
     "output_type": "stream",
     "text": [
      "Accuracy Score on train dt : 0.816524251271067\n",
      "_____________________\n",
      "Confusion Matrix :\n",
      " [[107119      0]\n",
      " [ 24070      0]]\n",
      "_________________________\n",
      "Classification reeport :\n",
      "               precision    recall  f1-score   support\n",
      "\n",
      "           0       0.82      1.00      0.90    107119\n",
      "           1       0.00      0.00      0.00     24070\n",
      "\n",
      "    accuracy                           0.82    131189\n",
      "   macro avg       0.41      0.50      0.45    131189\n",
      "weighted avg       0.67      0.82      0.73    131189\n",
      "\n"
     ]
    }
   ],
   "source": [
    "# to Check Accuracy on training data\n",
    "y_best_pred_train_dt = best_dt_model.predict(x_train)\n",
    "acc_trn_bst_dt = accuracy_score(y_train,y_best_pred_train_dt)\n",
    "print(\"Accuracy Score on train dt :\",acc_trn_bst_dt)\n",
    "print(\"_____________________\")\n",
    "print(\"Confusion Matrix :\\n\",confusion_matrix(y_train,y_best_pred_train_dt))\n",
    "print(\"_________________________\")\n",
    "print(\"Classification reeport :\\n\",classification_report(y_train,y_best_pred_train_dt))\n"
   ]
  },
  {
   "cell_type": "raw",
   "metadata": {},
   "source": [
    "Conclusion : Accuracy is 81.65 on dt but recall nd precision value is 0 for  bad customer because data is imbalanced"
   ]
  },
  {
   "cell_type": "markdown",
   "metadata": {},
   "source": [
    "# 5.3 Random Forest"
   ]
  },
  {
   "cell_type": "code",
   "execution_count": 51,
   "metadata": {},
   "outputs": [],
   "source": [
    "from sklearn.ensemble import RandomForestClassifier"
   ]
  },
  {
   "cell_type": "code",
   "execution_count": 52,
   "metadata": {},
   "outputs": [
    {
     "data": {
      "text/plain": [
       "RandomForestClassifier()"
      ]
     },
     "execution_count": 52,
     "metadata": {},
     "output_type": "execute_result"
    }
   ],
   "source": [
    "rf_model = RandomForestClassifier()\n",
    "rf_model.fit(x_train,y_train)"
   ]
  },
  {
   "cell_type": "code",
   "execution_count": 84,
   "metadata": {},
   "outputs": [
    {
     "name": "stdout",
     "output_type": "stream",
     "text": [
      "Accuracy Score for rf : 0.8181901335447284\n",
      "_____________________\n",
      "Confusion Matrix rf:\n",
      " [[26585   267]\n",
      " [ 5696   250]]\n",
      "_________________________\n",
      "Classification reeport rf :\n",
      "               precision    recall  f1-score   support\n",
      "\n",
      "           0       0.82      0.99      0.90     26852\n",
      "           1       0.48      0.04      0.08      5946\n",
      "\n",
      "    accuracy                           0.82     32798\n",
      "   macro avg       0.65      0.52      0.49     32798\n",
      "weighted avg       0.76      0.82      0.75     32798\n",
      "\n"
     ]
    }
   ],
   "source": [
    "y_pred_rf = rf_model.predict(x_test)\n",
    "acc_rf = accuracy_score(y_test,y_pred_rf)\n",
    "print(\"Accuracy Score for rf :\",acc_rf)\n",
    "print(\"_____________________\")\n",
    "print(\"Confusion Matrix rf:\\n\",confusion_matrix(y_test,y_pred_rf))\n",
    "print(\"_________________________\")\n",
    "print(\"Classification reeport rf :\\n\",classification_report(y_test,y_pred_rf))\n"
   ]
  },
  {
   "cell_type": "code",
   "execution_count": 92,
   "metadata": {},
   "outputs": [
    {
     "name": "stdout",
     "output_type": "stream",
     "text": [
      "Accuracy Score on train rf : 0.9999771322290741\n",
      "_____________________\n",
      "Confusion Matrix :\n",
      " [[107119      0]\n",
      " [     3  24067]]\n",
      "_________________________\n",
      "Classification reeport :\n",
      "               precision    recall  f1-score   support\n",
      "\n",
      "           0       1.00      1.00      1.00    107119\n",
      "           1       1.00      1.00      1.00     24070\n",
      "\n",
      "    accuracy                           1.00    131189\n",
      "   macro avg       1.00      1.00      1.00    131189\n",
      "weighted avg       1.00      1.00      1.00    131189\n",
      "\n"
     ]
    }
   ],
   "source": [
    "# to Check Accuracy on training data\n",
    "y_pred_train_rf = rf_model.predict(x_train)\n",
    "acc_trn_rf = accuracy_score(y_train,y_pred_train_rf)\n",
    "print(\"Accuracy Score on train rf :\",acc_trn_dt)\n",
    "print(\"_____________________\")\n",
    "print(\"Confusion Matrix :\\n\",confusion_matrix(y_train,y_pred_train_rf))\n",
    "print(\"_________________________\")\n",
    "print(\"Classification reeport :\\n\",classification_report(y_train,y_pred_train_rf))\n"
   ]
  },
  {
   "cell_type": "markdown",
   "metadata": {},
   "source": [
    "## Apply Hyperparameter"
   ]
  },
  {
   "cell_type": "code",
   "execution_count": 55,
   "metadata": {},
   "outputs": [],
   "source": [
    "n_estimators = list(np.arange(100,120))\n",
    "criterion = ['gini','entropy']\n",
    "max_depth = list(np.arange(1,10))\n",
    "hyper = {'n_estimators':n_estimators,'criterion':criterion,'max_depth':max_depth}"
   ]
  },
  {
   "cell_type": "code",
   "execution_count": 56,
   "metadata": {},
   "outputs": [],
   "source": [
    "new_rf = RandomForestClassifier()\n",
    "rscv = RandomizedSearchCV(new_rf,hyper,cv=5)\n",
    "rf_best_model = rscv.fit(x_train,y_train)"
   ]
  },
  {
   "cell_type": "code",
   "execution_count": 86,
   "metadata": {},
   "outputs": [
    {
     "name": "stdout",
     "output_type": "stream",
     "text": [
      "Accuracy Score for best_rf : 0.8187084578327947\n",
      "_____________________\n",
      "Confusion Matrix rf:\n",
      " [[26852     0]\n",
      " [ 5946     0]]\n",
      "_________________________\n",
      "Classification reeport rf :\n",
      "               precision    recall  f1-score   support\n",
      "\n",
      "           0       0.82      1.00      0.90     26852\n",
      "           1       0.00      0.00      0.00      5946\n",
      "\n",
      "    accuracy                           0.82     32798\n",
      "   macro avg       0.41      0.50      0.45     32798\n",
      "weighted avg       0.67      0.82      0.74     32798\n",
      "\n"
     ]
    }
   ],
   "source": [
    "y_best_pred_rf = rf_best_model.predict(x_test)\n",
    "acc_bst_rf = accuracy_score(y_test,y_best_pred_rf)\n",
    "print(\"Accuracy Score for best_rf :\",acc_bst_rf)\n",
    "print(\"_____________________\")\n",
    "print(\"Confusion Matrix rf:\\n\",confusion_matrix(y_test,y_best_pred_rf))\n",
    "print(\"_________________________\")\n",
    "print(\"Classification reeport rf :\\n\",classification_report(y_test,y_best_pred_rf))\n"
   ]
  },
  {
   "cell_type": "code",
   "execution_count": null,
   "metadata": {},
   "outputs": [],
   "source": []
  },
  {
   "cell_type": "markdown",
   "metadata": {},
   "source": [
    "# 5.4 Adaboost Algorithm"
   ]
  },
  {
   "cell_type": "code",
   "execution_count": 58,
   "metadata": {},
   "outputs": [],
   "source": [
    "from sklearn.ensemble import AdaBoostClassifier"
   ]
  },
  {
   "cell_type": "code",
   "execution_count": 59,
   "metadata": {},
   "outputs": [
    {
     "data": {
      "text/plain": [
       "AdaBoostClassifier()"
      ]
     },
     "execution_count": 59,
     "metadata": {},
     "output_type": "execute_result"
    }
   ],
   "source": [
    "adbst_model = AdaBoostClassifier()\n",
    "adbst_model.fit(x_train,y_train)"
   ]
  },
  {
   "cell_type": "code",
   "execution_count": 87,
   "metadata": {},
   "outputs": [
    {
     "name": "stdout",
     "output_type": "stream",
     "text": [
      "Accuracy Score  : 0.8197755960729313\n",
      "_____________________\n",
      "Confusion Matrix :\n",
      " [[26702   150]\n",
      " [ 5761   185]]\n",
      "_________________________\n",
      "Classification reeport  :\n",
      "               precision    recall  f1-score   support\n",
      "\n",
      "           0       0.82      0.99      0.90     26852\n",
      "           1       0.55      0.03      0.06      5946\n",
      "\n",
      "    accuracy                           0.82     32798\n",
      "   macro avg       0.69      0.51      0.48     32798\n",
      "weighted avg       0.77      0.82      0.75     32798\n",
      "\n"
     ]
    }
   ],
   "source": [
    "y_pred_adbst = adbst_model.predict(x_test)\n",
    "acc_adbst = accuracy_score(y_test,y_pred_adbst)\n",
    "print(\"Accuracy Score  :\",acc_adbst)\n",
    "print(\"_____________________\")\n",
    "print(\"Confusion Matrix :\\n\",confusion_matrix(y_test,y_pred_adbst))\n",
    "print(\"_________________________\")\n",
    "print(\"Classification reeport  :\\n\",classification_report(y_test,y_pred_adbst))\n"
   ]
  },
  {
   "cell_type": "code",
   "execution_count": 88,
   "metadata": {},
   "outputs": [
    {
     "name": "stdout",
     "output_type": "stream",
     "text": [
      "Accuracy Score on train  : 0.8172026618085357\n",
      "_____________________\n",
      "Confusion Matrix :\n",
      " [[106491    628]\n",
      " [ 23353    717]]\n",
      "_________________________\n",
      "Classification reeport :\n",
      "               precision    recall  f1-score   support\n",
      "\n",
      "           0       0.82      0.99      0.90    107119\n",
      "           1       0.53      0.03      0.06     24070\n",
      "\n",
      "    accuracy                           0.82    131189\n",
      "   macro avg       0.68      0.51      0.48    131189\n",
      "weighted avg       0.77      0.82      0.74    131189\n",
      "\n"
     ]
    }
   ],
   "source": [
    "# to Check Accuracy on training data\n",
    "y_pred_train_adbst = adbst_model.predict(x_train)\n",
    "acc_trn_adbst = accuracy_score(y_train,y_pred_train_adbst)\n",
    "print(\"Accuracy Score on train  :\",acc_trn_adbst)\n",
    "print(\"_____________________\")\n",
    "print(\"Confusion Matrix :\\n\",confusion_matrix(y_train,y_pred_train_adbst))\n",
    "print(\"_________________________\")\n",
    "print(\"Classification reeport :\\n\",classification_report(y_train,y_pred_train_adbst))\n"
   ]
  },
  {
   "cell_type": "markdown",
   "metadata": {},
   "source": [
    "### Hyperparameter Tunning"
   ]
  },
  {
   "cell_type": "code",
   "execution_count": 62,
   "metadata": {},
   "outputs": [],
   "source": [
    "n_estimators = list(np.arange(50,120))\n",
    "random_state = list(np.arange(1,15))\n",
    "\n",
    "hyper2 = {'n_estimators':n_estimators,'random_state':random_state}"
   ]
  },
  {
   "cell_type": "code",
   "execution_count": 63,
   "metadata": {},
   "outputs": [],
   "source": [
    "new_adbst = AdaBoostClassifier()\n",
    "rscv2 = RandomizedSearchCV(new_adbst,hyper2,cv=5)\n",
    "best_adbst_model = rscv2.fit(x_train,y_train)"
   ]
  },
  {
   "cell_type": "code",
   "execution_count": 89,
   "metadata": {},
   "outputs": [
    {
     "name": "stdout",
     "output_type": "stream",
     "text": [
      "Accuracy Score for best_adbst : 0.820171961704982\n",
      "_____________________\n",
      "Confusion Matrix rf:\n",
      " [[26669   183]\n",
      " [ 5715   231]]\n",
      "_________________________\n",
      "Classification reeport rf :\n",
      "               precision    recall  f1-score   support\n",
      "\n",
      "           0       0.82      0.99      0.90     26852\n",
      "           1       0.56      0.04      0.07      5946\n",
      "\n",
      "    accuracy                           0.82     32798\n",
      "   macro avg       0.69      0.52      0.49     32798\n",
      "weighted avg       0.78      0.82      0.75     32798\n",
      "\n"
     ]
    }
   ],
   "source": [
    "y_best_pred_adbst = best_adbst_model.predict(x_test)\n",
    "acc_bst_adbst = accuracy_score(y_test,y_best_pred_adbst)\n",
    "print(\"Accuracy Score for best_adbst :\",acc_bst_adbst)\n",
    "print(\"_____________________\")\n",
    "print(\"Confusion Matrix rf:\\n\",confusion_matrix(y_test,y_best_pred_adbst))\n",
    "print(\"_________________________\")\n",
    "print(\"Classification reeport rf :\\n\",classification_report(y_test,y_best_pred_adbst))\n"
   ]
  },
  {
   "cell_type": "code",
   "execution_count": 65,
   "metadata": {},
   "outputs": [
    {
     "name": "stdout",
     "output_type": "stream",
     "text": [
      "Accuracy Score on train  : 0.8171721714473013\n",
      "_____________________\n",
      "Confusion Matrix :\n",
      " [[106320    799]\n",
      " [ 23186    884]]\n",
      "_________________________\n",
      "Classification reeport :\n",
      "               precision    recall  f1-score   support\n",
      "\n",
      "           0       0.82      0.99      0.90    107119\n",
      "           1       0.53      0.04      0.07     24070\n",
      "\n",
      "    accuracy                           0.82    131189\n",
      "   macro avg       0.67      0.51      0.48    131189\n",
      "weighted avg       0.77      0.82      0.75    131189\n",
      "\n"
     ]
    }
   ],
   "source": [
    "# to Check Accuracy on training data\n",
    "y_pred_train_adbst_bst = best_adbst_model.predict(x_train)\n",
    "print(\"Accuracy Score on train  :\",accuracy_score(y_train,y_pred_train_adbst_bst))\n",
    "print(\"_____________________\")\n",
    "print(\"Confusion Matrix :\\n\",confusion_matrix(y_train,y_pred_train_adbst_bst))\n",
    "print(\"_________________________\")\n",
    "print(\"Classification reeport :\\n\",classification_report(y_train,y_pred_train_adbst_bst))\n"
   ]
  },
  {
   "cell_type": "code",
   "execution_count": null,
   "metadata": {},
   "outputs": [],
   "source": []
  },
  {
   "cell_type": "markdown",
   "metadata": {},
   "source": [
    "# 5.5 XGBoost Algorithm"
   ]
  },
  {
   "cell_type": "code",
   "execution_count": 66,
   "metadata": {},
   "outputs": [],
   "source": [
    "from xgboost import XGBClassifier"
   ]
  },
  {
   "cell_type": "code",
   "execution_count": 67,
   "metadata": {},
   "outputs": [
    {
     "name": "stdout",
     "output_type": "stream",
     "text": [
      "[21:27:05] WARNING: C:/Users/Administrator/workspace/xgboost-win64_release_1.4.0/src/learner.cc:1095: Starting in XGBoost 1.3.0, the default evaluation metric used with the objective 'binary:logistic' was changed from 'error' to 'logloss'. Explicitly set eval_metric if you'd like to restore the old behavior.\n"
     ]
    },
    {
     "data": {
      "text/plain": [
       "XGBClassifier(base_score=0.5, booster='gbtree', colsample_bylevel=1,\n",
       "              colsample_bynode=1, colsample_bytree=1, gamma=0, gpu_id=-1,\n",
       "              importance_type='gain', interaction_constraints='',\n",
       "              learning_rate=0.300000012, max_delta_step=0, max_depth=6,\n",
       "              min_child_weight=1, missing=nan, monotone_constraints='()',\n",
       "              n_estimators=100, n_jobs=4, num_parallel_tree=1, random_state=0,\n",
       "              reg_alpha=0, reg_lambda=1, scale_pos_weight=1, subsample=1,\n",
       "              tree_method='exact', validate_parameters=1, verbosity=None)"
      ]
     },
     "execution_count": 67,
     "metadata": {},
     "output_type": "execute_result"
    }
   ],
   "source": [
    "xgbst_model = XGBClassifier()\n",
    "xgbst_model.fit(x_train,y_train)"
   ]
  },
  {
   "cell_type": "code",
   "execution_count": 90,
   "metadata": {},
   "outputs": [
    {
     "name": "stdout",
     "output_type": "stream",
     "text": [
      "Accuracy Score  : 0.8171229953045918\n",
      "_____________________\n",
      "Confusion Matrix :\n",
      " [[26448   404]\n",
      " [ 5594   352]]\n",
      "_________________________\n",
      "Classification reeport  :\n",
      "               precision    recall  f1-score   support\n",
      "\n",
      "           0       0.83      0.98      0.90     26852\n",
      "           1       0.47      0.06      0.11      5946\n",
      "\n",
      "    accuracy                           0.82     32798\n",
      "   macro avg       0.65      0.52      0.50     32798\n",
      "weighted avg       0.76      0.82      0.75     32798\n",
      "\n"
     ]
    }
   ],
   "source": [
    "y_pred_xgbst = xgbst_model.predict(x_test)\n",
    "acc_xgbst = accuracy_score(y_test,y_pred_xgbst)\n",
    "print(\"Accuracy Score  :\",acc_xgbst)\n",
    "print(\"_____________________\")\n",
    "print(\"Confusion Matrix :\\n\",confusion_matrix(y_test,y_pred_xgbst))\n",
    "print(\"_________________________\")\n",
    "print(\"Classification reeport  :\\n\",classification_report(y_test,y_pred_xgbst))\n"
   ]
  },
  {
   "cell_type": "code",
   "execution_count": 91,
   "metadata": {},
   "outputs": [
    {
     "name": "stdout",
     "output_type": "stream",
     "text": [
      "Accuracy Score on train  : 0.8321734291747022\n",
      "_____________________\n",
      "Confusion Matrix :\n",
      " [[106342    777]\n",
      " [ 21240   2830]]\n",
      "_________________________\n",
      "Classification reeport :\n",
      "               precision    recall  f1-score   support\n",
      "\n",
      "           0       0.83      0.99      0.91    107119\n",
      "           1       0.78      0.12      0.20     24070\n",
      "\n",
      "    accuracy                           0.83    131189\n",
      "   macro avg       0.81      0.56      0.56    131189\n",
      "weighted avg       0.82      0.83      0.78    131189\n",
      "\n"
     ]
    }
   ],
   "source": [
    "# to Check Accuracy on training data\n",
    "y_pred_train_xgbst = xgbst_model.predict(x_train)\n",
    "acc_trn_xgbst = accuracy_score(y_train,y_pred_train_xgbst)\n",
    "print(\"Accuracy Score on train  :\",acc_trn_xgbst)\n",
    "print(\"_____________________\")\n",
    "print(\"Confusion Matrix :\\n\",confusion_matrix(y_train,y_pred_train_xgbst))\n",
    "print(\"_________________________\")\n",
    "print(\"Classification reeport :\\n\",classification_report(y_train,y_pred_train_xgbst))\n"
   ]
  },
  {
   "cell_type": "markdown",
   "metadata": {},
   "source": [
    "# DF of All Applied Alogorithm"
   ]
  },
  {
   "cell_type": "code",
   "execution_count": 93,
   "metadata": {},
   "outputs": [
    {
     "name": "stdout",
     "output_type": "stream",
     "text": [
      "DF of Model list and Accuracy of this Model :\n",
      "       Model_name  Accuracy_test  Acc_train  Bst_Acc_test\n",
      "0       Logistic       0.817916   0.817916      0.815638\n",
      "1  Decision Tree       0.716538   0.999977      0.818708\n",
      "2  Random Forest       0.818190   0.999977      0.818708\n",
      "3      Ada Boost       0.819776   0.817203      0.820172\n",
      "4        XGBoost       0.817123   0.832173      0.817123\n"
     ]
    }
   ],
   "source": [
    "DF_dict = {\"Model_name\": ['Logistic','Decision Tree','Random Forest','Ada Boost','XGBoost'],\"Accuracy_test\":[acc_lr,acc_dt,\n",
    "            acc_rf,acc_adbst,acc_xgbst],\"Acc_train\":[acc_lr,acc_trn_dt,acc_trn_rf,acc_trn_adbst,acc_trn_xgbst],\"Bst_Acc_test\":\n",
    "          [acc_lr_bst,acc_bst_dt,acc_bst_rf,acc_bst_adbst,acc_xgbst]}\n",
    "acc_list = pd.DataFrame(DF_dict)\n",
    "print(\"DF of Model list and Accuracy of this Model :\\n\",acc_list)"
   ]
  },
  {
   "cell_type": "raw",
   "metadata": {},
   "source": [
    "Conclusion: we have conclude that Highest Accuracy is obtained on Adaboost algorith.Due to this i have select Adaboost and improve acc of adabst in next step. Apply sampling beacause our data is imbalance."
   ]
  },
  {
   "cell_type": "markdown",
   "metadata": {},
   "source": [
    "# 6. Improving Accuracy on Adaboost"
   ]
  },
  {
   "cell_type": "markdown",
   "metadata": {},
   "source": [
    "##  6.1 Oversampling"
   ]
  },
  {
   "cell_type": "code",
   "execution_count": 95,
   "metadata": {},
   "outputs": [],
   "source": [
    "from  imblearn.over_sampling import RandomOverSampler,SMOTE\n",
    "from imblearn.combine import SMOTETomek\n",
    "from collections import Counter\n"
   ]
  },
  {
   "cell_type": "code",
   "execution_count": 59,
   "metadata": {},
   "outputs": [],
   "source": [
    "# under  =  NearMiss(sampling_strategy=0.5)\n",
    "# x_train_ud,y_train_ud = under.fit_resample(x_train,y_train)\n",
    "# print(Counter(y_train_ud))"
   ]
  },
  {
   "cell_type": "code",
   "execution_count": 73,
   "metadata": {
    "scrolled": true
   },
   "outputs": [
    {
     "name": "stdout",
     "output_type": "stream",
     "text": [
      "Counter({0: 107030, 1: 32109})\n"
     ]
    }
   ],
   "source": [
    "over = RandomOverSampler(random_state=1,sampling_strategy=0.3)\n",
    "x_train_over,y_train_over = over.fit_resample(x_train,y_train)\n",
    "print(Counter(y_train_over))"
   ]
  },
  {
   "cell_type": "code",
   "execution_count": null,
   "metadata": {},
   "outputs": [],
   "source": []
  },
  {
   "cell_type": "code",
   "execution_count": null,
   "metadata": {},
   "outputs": [],
   "source": []
  },
  {
   "cell_type": "code",
   "execution_count": null,
   "metadata": {},
   "outputs": [],
   "source": []
  },
  {
   "cell_type": "markdown",
   "metadata": {},
   "source": [
    "# Logistic Regresstion"
   ]
  },
  {
   "cell_type": "code",
   "execution_count": 61,
   "metadata": {},
   "outputs": [],
   "source": [
    "from sklearn.linear_model import LogisticRegression\n",
    "from sklearn.metrics import confusion_matrix,accuracy_score,classification_report\n",
    "from sklearn.metrics import roc_auc_score,roc_curve"
   ]
  },
  {
   "cell_type": "code",
   "execution_count": 62,
   "metadata": {},
   "outputs": [
    {
     "data": {
      "text/plain": [
       "LogisticRegression(random_state=0)"
      ]
     },
     "execution_count": 62,
     "metadata": {},
     "output_type": "execute_result"
    }
   ],
   "source": [
    "logistic_model=LogisticRegression(random_state=0)\n",
    "logistic_model.fit(x_train,y_train)"
   ]
  },
  {
   "cell_type": "code",
   "execution_count": 130,
   "metadata": {},
   "outputs": [
    {
     "data": {
      "text/plain": [
       "0"
      ]
     },
     "execution_count": 130,
     "metadata": {},
     "output_type": "execute_result"
    }
   ],
   "source": [
    "y_pred_lr=logistic_model.predict(x_test)\n",
    "list(y_pred_lr).count(1)"
   ]
  },
  {
   "cell_type": "code",
   "execution_count": 64,
   "metadata": {},
   "outputs": [
    {
     "name": "stdout",
     "output_type": "stream",
     "text": [
      "0.8207794584044888\n"
     ]
    }
   ],
   "source": [
    "acc_lr = accuracy_score(y_test,y_pred_lr)\n",
    "print(acc_lr)"
   ]
  },
  {
   "cell_type": "code",
   "execution_count": 65,
   "metadata": {},
   "outputs": [
    {
     "data": {
      "text/plain": [
       "0.8159888995623866"
      ]
     },
     "execution_count": 65,
     "metadata": {},
     "output_type": "execute_result"
    }
   ],
   "source": [
    "# to check accuracy on train data\n",
    "y_pred_train_lr=logistic_model.predict(x_train)\n",
    "accuracy_score(y_train,y_pred_train_lr)"
   ]
  },
  {
   "cell_type": "code",
   "execution_count": 66,
   "metadata": {},
   "outputs": [],
   "source": [
    "# using sampling"
   ]
  },
  {
   "cell_type": "code",
   "execution_count": 74,
   "metadata": {},
   "outputs": [
    {
     "data": {
      "text/plain": [
       "LogisticRegression(random_state=0)"
      ]
     },
     "execution_count": 74,
     "metadata": {},
     "output_type": "execute_result"
    }
   ],
   "source": [
    "logistic_model_os=LogisticRegression(random_state=0)\n",
    "logistic_model_os.fit(x_train_over,y_train_over)"
   ]
  },
  {
   "cell_type": "code",
   "execution_count": 75,
   "metadata": {},
   "outputs": [
    {
     "data": {
      "text/plain": [
       "32655"
      ]
     },
     "execution_count": 75,
     "metadata": {},
     "output_type": "execute_result"
    }
   ],
   "source": [
    "y_pred_lr_os=logistic_model_os.predict(x_test)\n",
    "list(y_pred_lr_os).count(0)"
   ]
  },
  {
   "cell_type": "code",
   "execution_count": 76,
   "metadata": {},
   "outputs": [
    {
     "name": "stdout",
     "output_type": "stream",
     "text": [
      "0.8202610392778726\n"
     ]
    }
   ],
   "source": [
    "acc_lr_best = accuracy_score(y_test,y_pred_lr_os)\n",
    "print(acc_lr_best)"
   ]
  },
  {
   "cell_type": "code",
   "execution_count": 71,
   "metadata": {},
   "outputs": [
    {
     "data": {
      "text/plain": [
       "array([[11832, 15083],\n",
       "       [ 1537,  4340]], dtype=int64)"
      ]
     },
     "execution_count": 71,
     "metadata": {},
     "output_type": "execute_result"
    }
   ],
   "source": [
    "confusion_matrix(y_test,y_pred_lr_os)"
   ]
  },
  {
   "cell_type": "code",
   "execution_count": null,
   "metadata": {},
   "outputs": [],
   "source": [
    "cls_lr=classification_report(y_test,y_pred_lr)\n",
    "print(\"Classification report for test_lr :\\n\",cls_lr)"
   ]
  },
  {
   "cell_type": "code",
   "execution_count": 72,
   "metadata": {},
   "outputs": [
    {
     "data": {
      "text/plain": [
       "0.6666666666666666"
      ]
     },
     "execution_count": 72,
     "metadata": {},
     "output_type": "execute_result"
    }
   ],
   "source": [
    "# to check accuracy on train data\n",
    "y_pred_train_lr=logistic_model.predict(x_train_over)\n",
    "accuracy_score(y_train_over,y_pred_train_lr)"
   ]
  },
  {
   "cell_type": "code",
   "execution_count": 73,
   "metadata": {},
   "outputs": [],
   "source": [
    "y_pred_prob_lr = logistic_model.predict_proba(x_test)"
   ]
  },
  {
   "cell_type": "code",
   "execution_count": 74,
   "metadata": {},
   "outputs": [
    {
     "data": {
      "text/plain": [
       "0.5716672686727868"
      ]
     },
     "execution_count": 74,
     "metadata": {},
     "output_type": "execute_result"
    }
   ],
   "source": [
    "roc_auc_score(y_test,y_pred_prob_lr[:,1])"
   ]
  },
  {
   "cell_type": "markdown",
   "metadata": {},
   "source": [
    "# KNN Alogorithm"
   ]
  },
  {
   "cell_type": "code",
   "execution_count": 75,
   "metadata": {},
   "outputs": [],
   "source": [
    "from sklearn.neighbors import KNeighborsClassifier\n",
    "from sklearn.preprocessing import MinMaxScaler,StandardScaler\n",
    "from sklearn.model_selection import GridSearchCV,RandomizedSearchCV"
   ]
  },
  {
   "cell_type": "code",
   "execution_count": 76,
   "metadata": {},
   "outputs": [],
   "source": [
    "# KNN is the distance base algorithm due to this use scaling methods"
   ]
  },
  {
   "cell_type": "code",
   "execution_count": 77,
   "metadata": {},
   "outputs": [],
   "source": [
    "x_knn=df.drop(['bad_loan'],axis=1)\n"
   ]
  },
  {
   "cell_type": "code",
   "execution_count": 78,
   "metadata": {
    "scrolled": true
   },
   "outputs": [],
   "source": [
    "\n",
    "# # use Normalization\n",
    "# normal_scaler=MinMaxScaler()\n",
    "# nor_scaled=normal_scaler.fit_transform(x_knn)\n",
    "# x_knn=pd.DataFrame(nor_scaled,columns=x.columns)\n",
    "# x_knn"
   ]
  },
  {
   "cell_type": "code",
   "execution_count": 79,
   "metadata": {},
   "outputs": [
    {
     "data": {
      "text/html": [
       "<div>\n",
       "<style scoped>\n",
       "    .dataframe tbody tr th:only-of-type {\n",
       "        vertical-align: middle;\n",
       "    }\n",
       "\n",
       "    .dataframe tbody tr th {\n",
       "        vertical-align: top;\n",
       "    }\n",
       "\n",
       "    .dataframe thead th {\n",
       "        text-align: right;\n",
       "    }\n",
       "</style>\n",
       "<table border=\"1\" class=\"dataframe\">\n",
       "  <thead>\n",
       "    <tr style=\"text-align: right;\">\n",
       "      <th></th>\n",
       "      <th>loan_amnt</th>\n",
       "      <th>term</th>\n",
       "      <th>int_rate</th>\n",
       "      <th>emp_length</th>\n",
       "      <th>annual_inc</th>\n",
       "      <th>dti</th>\n",
       "      <th>revol_util</th>\n",
       "      <th>total_acc</th>\n",
       "      <th>longest_credit_length</th>\n",
       "      <th>ANY</th>\n",
       "      <th>...</th>\n",
       "      <th>major_purchase</th>\n",
       "      <th>medical</th>\n",
       "      <th>moving</th>\n",
       "      <th>other</th>\n",
       "      <th>renewable_energy</th>\n",
       "      <th>small_business</th>\n",
       "      <th>vacation</th>\n",
       "      <th>wedding</th>\n",
       "      <th>not verified</th>\n",
       "      <th>verified</th>\n",
       "    </tr>\n",
       "  </thead>\n",
       "  <tbody>\n",
       "    <tr>\n",
       "      <th>0</th>\n",
       "      <td>-1.010327</td>\n",
       "      <td>-0.511842</td>\n",
       "      <td>-0.698259</td>\n",
       "      <td>1.221190</td>\n",
       "      <td>-0.811171</td>\n",
       "      <td>1.625569</td>\n",
       "      <td>1.205492</td>\n",
       "      <td>-1.444393</td>\n",
       "      <td>1.660152</td>\n",
       "      <td>-0.00247</td>\n",
       "      <td>...</td>\n",
       "      <td>-0.171527</td>\n",
       "      <td>-0.111938</td>\n",
       "      <td>-0.094919</td>\n",
       "      <td>-0.261098</td>\n",
       "      <td>-0.034772</td>\n",
       "      <td>-0.154883</td>\n",
       "      <td>-0.082034</td>\n",
       "      <td>-0.103898</td>\n",
       "      <td>-0.751004</td>\n",
       "      <td>0.751004</td>\n",
       "    </tr>\n",
       "    <tr>\n",
       "      <th>1</th>\n",
       "      <td>-1.323091</td>\n",
       "      <td>1.953728</td>\n",
       "      <td>0.353682</td>\n",
       "      <td>-1.482828</td>\n",
       "      <td>-0.709597</td>\n",
       "      <td>-0.026211</td>\n",
       "      <td>0.126207</td>\n",
       "      <td>-0.457146</td>\n",
       "      <td>-0.457745</td>\n",
       "      <td>-0.00247</td>\n",
       "      <td>...</td>\n",
       "      <td>-0.171527</td>\n",
       "      <td>-0.111938</td>\n",
       "      <td>-0.094919</td>\n",
       "      <td>-0.261098</td>\n",
       "      <td>-0.034772</td>\n",
       "      <td>-0.154883</td>\n",
       "      <td>-0.082034</td>\n",
       "      <td>-0.103898</td>\n",
       "      <td>-0.751004</td>\n",
       "      <td>0.751004</td>\n",
       "    </tr>\n",
       "    <tr>\n",
       "      <th>2</th>\n",
       "      <td>-1.335601</td>\n",
       "      <td>-0.511842</td>\n",
       "      <td>0.510790</td>\n",
       "      <td>1.221190</td>\n",
       "      <td>-1.010055</td>\n",
       "      <td>-1.256293</td>\n",
       "      <td>1.941594</td>\n",
       "      <td>-1.354643</td>\n",
       "      <td>-0.760302</td>\n",
       "      <td>-0.00247</td>\n",
       "      <td>...</td>\n",
       "      <td>-0.171527</td>\n",
       "      <td>-0.111938</td>\n",
       "      <td>-0.094919</td>\n",
       "      <td>-0.261098</td>\n",
       "      <td>-0.034772</td>\n",
       "      <td>6.456491</td>\n",
       "      <td>-0.082034</td>\n",
       "      <td>-0.103898</td>\n",
       "      <td>1.331551</td>\n",
       "      <td>-1.331551</td>\n",
       "    </tr>\n",
       "    <tr>\n",
       "      <th>3</th>\n",
       "      <td>-0.384799</td>\n",
       "      <td>-0.511842</td>\n",
       "      <td>-0.051612</td>\n",
       "      <td>1.221190</td>\n",
       "      <td>-0.384558</td>\n",
       "      <td>0.460950</td>\n",
       "      <td>-1.912994</td>\n",
       "      <td>1.068598</td>\n",
       "      <td>-0.003910</td>\n",
       "      <td>-0.00247</td>\n",
       "      <td>...</td>\n",
       "      <td>-0.171527</td>\n",
       "      <td>-0.111938</td>\n",
       "      <td>-0.094919</td>\n",
       "      <td>3.829983</td>\n",
       "      <td>-0.034772</td>\n",
       "      <td>-0.154883</td>\n",
       "      <td>-0.082034</td>\n",
       "      <td>-0.103898</td>\n",
       "      <td>-0.751004</td>\n",
       "      <td>0.751004</td>\n",
       "    </tr>\n",
       "    <tr>\n",
       "      <th>4</th>\n",
       "      <td>-1.010327</td>\n",
       "      <td>-0.511842</td>\n",
       "      <td>-1.324415</td>\n",
       "      <td>-0.671622</td>\n",
       "      <td>-0.608022</td>\n",
       "      <td>-0.878743</td>\n",
       "      <td>-1.549917</td>\n",
       "      <td>-1.175144</td>\n",
       "      <td>-1.214137</td>\n",
       "      <td>-0.00247</td>\n",
       "      <td>...</td>\n",
       "      <td>-0.171527</td>\n",
       "      <td>-0.111938</td>\n",
       "      <td>-0.094919</td>\n",
       "      <td>-0.261098</td>\n",
       "      <td>-0.034772</td>\n",
       "      <td>-0.154883</td>\n",
       "      <td>-0.082034</td>\n",
       "      <td>9.624800</td>\n",
       "      <td>-0.751004</td>\n",
       "      <td>0.751004</td>\n",
       "    </tr>\n",
       "    <tr>\n",
       "      <th>...</th>\n",
       "      <td>...</td>\n",
       "      <td>...</td>\n",
       "      <td>...</td>\n",
       "      <td>...</td>\n",
       "      <td>...</td>\n",
       "      <td>...</td>\n",
       "      <td>...</td>\n",
       "      <td>...</td>\n",
       "      <td>...</td>\n",
       "      <td>...</td>\n",
       "      <td>...</td>\n",
       "      <td>...</td>\n",
       "      <td>...</td>\n",
       "      <td>...</td>\n",
       "      <td>...</td>\n",
       "      <td>...</td>\n",
       "      <td>...</td>\n",
       "      <td>...</td>\n",
       "      <td>...</td>\n",
       "      <td>...</td>\n",
       "      <td>...</td>\n",
       "    </tr>\n",
       "    <tr>\n",
       "      <th>163953</th>\n",
       "      <td>0.240729</td>\n",
       "      <td>1.953728</td>\n",
       "      <td>-0.302074</td>\n",
       "      <td>-0.671622</td>\n",
       "      <td>-0.455660</td>\n",
       "      <td>2.202551</td>\n",
       "      <td>0.812573</td>\n",
       "      <td>0.799349</td>\n",
       "      <td>0.752482</td>\n",
       "      <td>-0.00247</td>\n",
       "      <td>...</td>\n",
       "      <td>-0.171527</td>\n",
       "      <td>-0.111938</td>\n",
       "      <td>-0.094919</td>\n",
       "      <td>-0.261098</td>\n",
       "      <td>-0.034772</td>\n",
       "      <td>-0.154883</td>\n",
       "      <td>-0.082034</td>\n",
       "      <td>-0.103898</td>\n",
       "      <td>1.331551</td>\n",
       "      <td>-1.331551</td>\n",
       "    </tr>\n",
       "    <tr>\n",
       "      <th>163954</th>\n",
       "      <td>0.866257</td>\n",
       "      <td>-0.511842</td>\n",
       "      <td>0.289928</td>\n",
       "      <td>1.221190</td>\n",
       "      <td>0.136859</td>\n",
       "      <td>1.016618</td>\n",
       "      <td>0.464416</td>\n",
       "      <td>-0.636646</td>\n",
       "      <td>1.055038</td>\n",
       "      <td>-0.00247</td>\n",
       "      <td>...</td>\n",
       "      <td>-0.171527</td>\n",
       "      <td>-0.111938</td>\n",
       "      <td>-0.094919</td>\n",
       "      <td>-0.261098</td>\n",
       "      <td>-0.034772</td>\n",
       "      <td>-0.154883</td>\n",
       "      <td>-0.082034</td>\n",
       "      <td>-0.103898</td>\n",
       "      <td>-0.751004</td>\n",
       "      <td>0.751004</td>\n",
       "    </tr>\n",
       "    <tr>\n",
       "      <th>163955</th>\n",
       "      <td>-0.031375</td>\n",
       "      <td>-0.511842</td>\n",
       "      <td>0.779467</td>\n",
       "      <td>0.139583</td>\n",
       "      <td>-0.574164</td>\n",
       "      <td>-1.209100</td>\n",
       "      <td>0.558916</td>\n",
       "      <td>-0.098148</td>\n",
       "      <td>-0.911580</td>\n",
       "      <td>-0.00247</td>\n",
       "      <td>...</td>\n",
       "      <td>-0.171527</td>\n",
       "      <td>-0.111938</td>\n",
       "      <td>-0.094919</td>\n",
       "      <td>-0.261098</td>\n",
       "      <td>-0.034772</td>\n",
       "      <td>-0.154883</td>\n",
       "      <td>-0.082034</td>\n",
       "      <td>-0.103898</td>\n",
       "      <td>1.331551</td>\n",
       "      <td>-1.331551</td>\n",
       "    </tr>\n",
       "    <tr>\n",
       "      <th>163956</th>\n",
       "      <td>1.823315</td>\n",
       "      <td>1.953728</td>\n",
       "      <td>1.883778</td>\n",
       "      <td>-1.482828</td>\n",
       "      <td>-0.201724</td>\n",
       "      <td>-1.046205</td>\n",
       "      <td>0.086418</td>\n",
       "      <td>-0.457146</td>\n",
       "      <td>-1.365415</td>\n",
       "      <td>-0.00247</td>\n",
       "      <td>...</td>\n",
       "      <td>-0.171527</td>\n",
       "      <td>-0.111938</td>\n",
       "      <td>-0.094919</td>\n",
       "      <td>-0.261098</td>\n",
       "      <td>-0.034772</td>\n",
       "      <td>-0.154883</td>\n",
       "      <td>-0.082034</td>\n",
       "      <td>-0.103898</td>\n",
       "      <td>-0.751004</td>\n",
       "      <td>0.751004</td>\n",
       "    </tr>\n",
       "    <tr>\n",
       "      <th>163957</th>\n",
       "      <td>0.490940</td>\n",
       "      <td>1.953728</td>\n",
       "      <td>0.517621</td>\n",
       "      <td>1.221190</td>\n",
       "      <td>-0.149616</td>\n",
       "      <td>2.242133</td>\n",
       "      <td>-0.271686</td>\n",
       "      <td>0.260851</td>\n",
       "      <td>0.147368</td>\n",
       "      <td>-0.00247</td>\n",
       "      <td>...</td>\n",
       "      <td>-0.171527</td>\n",
       "      <td>-0.111938</td>\n",
       "      <td>-0.094919</td>\n",
       "      <td>-0.261098</td>\n",
       "      <td>-0.034772</td>\n",
       "      <td>-0.154883</td>\n",
       "      <td>-0.082034</td>\n",
       "      <td>-0.103898</td>\n",
       "      <td>-0.751004</td>\n",
       "      <td>0.751004</td>\n",
       "    </tr>\n",
       "  </tbody>\n",
       "</table>\n",
       "<p>163958 rows × 31 columns</p>\n",
       "</div>"
      ],
      "text/plain": [
       "        loan_amnt      term  int_rate  emp_length  annual_inc       dti  \\\n",
       "0       -1.010327 -0.511842 -0.698259    1.221190   -0.811171  1.625569   \n",
       "1       -1.323091  1.953728  0.353682   -1.482828   -0.709597 -0.026211   \n",
       "2       -1.335601 -0.511842  0.510790    1.221190   -1.010055 -1.256293   \n",
       "3       -0.384799 -0.511842 -0.051612    1.221190   -0.384558  0.460950   \n",
       "4       -1.010327 -0.511842 -1.324415   -0.671622   -0.608022 -0.878743   \n",
       "...           ...       ...       ...         ...         ...       ...   \n",
       "163953   0.240729  1.953728 -0.302074   -0.671622   -0.455660  2.202551   \n",
       "163954   0.866257 -0.511842  0.289928    1.221190    0.136859  1.016618   \n",
       "163955  -0.031375 -0.511842  0.779467    0.139583   -0.574164 -1.209100   \n",
       "163956   1.823315  1.953728  1.883778   -1.482828   -0.201724 -1.046205   \n",
       "163957   0.490940  1.953728  0.517621    1.221190   -0.149616  2.242133   \n",
       "\n",
       "        revol_util  total_acc  longest_credit_length      ANY  ...  \\\n",
       "0         1.205492  -1.444393               1.660152 -0.00247  ...   \n",
       "1         0.126207  -0.457146              -0.457745 -0.00247  ...   \n",
       "2         1.941594  -1.354643              -0.760302 -0.00247  ...   \n",
       "3        -1.912994   1.068598              -0.003910 -0.00247  ...   \n",
       "4        -1.549917  -1.175144              -1.214137 -0.00247  ...   \n",
       "...            ...        ...                    ...      ...  ...   \n",
       "163953    0.812573   0.799349               0.752482 -0.00247  ...   \n",
       "163954    0.464416  -0.636646               1.055038 -0.00247  ...   \n",
       "163955    0.558916  -0.098148              -0.911580 -0.00247  ...   \n",
       "163956    0.086418  -0.457146              -1.365415 -0.00247  ...   \n",
       "163957   -0.271686   0.260851               0.147368 -0.00247  ...   \n",
       "\n",
       "        major_purchase   medical    moving     other  renewable_energy  \\\n",
       "0            -0.171527 -0.111938 -0.094919 -0.261098         -0.034772   \n",
       "1            -0.171527 -0.111938 -0.094919 -0.261098         -0.034772   \n",
       "2            -0.171527 -0.111938 -0.094919 -0.261098         -0.034772   \n",
       "3            -0.171527 -0.111938 -0.094919  3.829983         -0.034772   \n",
       "4            -0.171527 -0.111938 -0.094919 -0.261098         -0.034772   \n",
       "...                ...       ...       ...       ...               ...   \n",
       "163953       -0.171527 -0.111938 -0.094919 -0.261098         -0.034772   \n",
       "163954       -0.171527 -0.111938 -0.094919 -0.261098         -0.034772   \n",
       "163955       -0.171527 -0.111938 -0.094919 -0.261098         -0.034772   \n",
       "163956       -0.171527 -0.111938 -0.094919 -0.261098         -0.034772   \n",
       "163957       -0.171527 -0.111938 -0.094919 -0.261098         -0.034772   \n",
       "\n",
       "        small_business  vacation   wedding  not verified  verified  \n",
       "0            -0.154883 -0.082034 -0.103898     -0.751004  0.751004  \n",
       "1            -0.154883 -0.082034 -0.103898     -0.751004  0.751004  \n",
       "2             6.456491 -0.082034 -0.103898      1.331551 -1.331551  \n",
       "3            -0.154883 -0.082034 -0.103898     -0.751004  0.751004  \n",
       "4            -0.154883 -0.082034  9.624800     -0.751004  0.751004  \n",
       "...                ...       ...       ...           ...       ...  \n",
       "163953       -0.154883 -0.082034 -0.103898      1.331551 -1.331551  \n",
       "163954       -0.154883 -0.082034 -0.103898     -0.751004  0.751004  \n",
       "163955       -0.154883 -0.082034 -0.103898      1.331551 -1.331551  \n",
       "163956       -0.154883 -0.082034 -0.103898     -0.751004  0.751004  \n",
       "163957       -0.154883 -0.082034 -0.103898     -0.751004  0.751004  \n",
       "\n",
       "[163958 rows x 31 columns]"
      ]
     },
     "execution_count": 79,
     "metadata": {},
     "output_type": "execute_result"
    }
   ],
   "source": [
    "# use Stardazation\n",
    "std_=StandardScaler()\n",
    "std_scaler=std_.fit_transform(x_knn)\n",
    "x_knn=pd.DataFrame(std_scaler,columns=x.columns)\n",
    "x_knn"
   ]
  },
  {
   "cell_type": "code",
   "execution_count": 80,
   "metadata": {},
   "outputs": [],
   "source": [
    "x_trn,x_tst,y_trn,y_tst = train_test_split(x_knn,y,test_size=0.2,random_state=1)"
   ]
  },
  {
   "cell_type": "code",
   "execution_count": 81,
   "metadata": {},
   "outputs": [
    {
     "data": {
      "text/plain": [
       "KNeighborsClassifier()"
      ]
     },
     "execution_count": 81,
     "metadata": {},
     "output_type": "execute_result"
    }
   ],
   "source": [
    "knn_model = KNeighborsClassifier()\n",
    "knn_model.fit(x_trn,y_trn)"
   ]
  },
  {
   "cell_type": "code",
   "execution_count": 82,
   "metadata": {},
   "outputs": [],
   "source": [
    "y_pred_knn = knn_model.predict(x_tst)"
   ]
  },
  {
   "cell_type": "code",
   "execution_count": 83,
   "metadata": {},
   "outputs": [
    {
     "data": {
      "text/plain": [
       "0.7924188826543059"
      ]
     },
     "execution_count": 83,
     "metadata": {},
     "output_type": "execute_result"
    }
   ],
   "source": [
    "acc_knn = accuracy_score(y_tst,y_pred_knn)\n",
    "acc_knn"
   ]
  },
  {
   "cell_type": "code",
   "execution_count": 84,
   "metadata": {},
   "outputs": [],
   "source": [
    "# Use Hyper parameter Tunning"
   ]
  },
  {
   "cell_type": "code",
   "execution_count": 85,
   "metadata": {},
   "outputs": [],
   "source": [
    "# n_neighbors = list(range(5,20))\n",
    "# p = [1,2]\n",
    "# hyperparamters = dict(n_neighbors = n_neighbors, p = p)\n"
   ]
  },
  {
   "cell_type": "code",
   "execution_count": 86,
   "metadata": {},
   "outputs": [],
   "source": [
    "# # 1. GridSearchCV\n",
    "# # 2. RandomizedSearchCV\n",
    "# knn_ = KNeighborsClassifier()\n",
    "# gscv = GridSearchCV(knn_, hyperparamters, cv = 5)\n",
    "# knn_new_model = gscv.fit(x_trn,y_trn)"
   ]
  },
  {
   "cell_type": "code",
   "execution_count": 87,
   "metadata": {},
   "outputs": [],
   "source": [
    "# y_best_pred_knn = knn_new_model.predict(x_tst)\n"
   ]
  },
  {
   "cell_type": "code",
   "execution_count": 88,
   "metadata": {},
   "outputs": [],
   "source": [
    "# accuracy_score(y_tst,y_best_pred_knn)"
   ]
  },
  {
   "cell_type": "code",
   "execution_count": 89,
   "metadata": {},
   "outputs": [],
   "source": [
    "# # to check accuracy on training data\n",
    "# y_best_train_pred_knn = knn_new_model.predict(x_trn)\n",
    "# accuracy_score(y_tst,y_best_train_pred_knn)"
   ]
  },
  {
   "cell_type": "code",
   "execution_count": 90,
   "metadata": {},
   "outputs": [],
   "source": [
    "# to find out probability and check roc curve score"
   ]
  },
  {
   "cell_type": "markdown",
   "metadata": {},
   "source": [
    "# Decision Tree Alogorithm"
   ]
  },
  {
   "cell_type": "code",
   "execution_count": 91,
   "metadata": {},
   "outputs": [],
   "source": [
    "from sklearn.tree import DecisionTreeClassifier"
   ]
  },
  {
   "cell_type": "code",
   "execution_count": 92,
   "metadata": {},
   "outputs": [
    {
     "data": {
      "text/plain": [
       "DecisionTreeClassifier()"
      ]
     },
     "execution_count": 92,
     "metadata": {},
     "output_type": "execute_result"
    }
   ],
   "source": [
    "dt_model = DecisionTreeClassifier()\n",
    "dt_model.fit(x_train_over,y_train_over)"
   ]
  },
  {
   "cell_type": "code",
   "execution_count": 93,
   "metadata": {},
   "outputs": [
    {
     "data": {
      "text/plain": [
       "0.72139546230788"
      ]
     },
     "execution_count": 93,
     "metadata": {},
     "output_type": "execute_result"
    }
   ],
   "source": [
    "y_pred_dt=dt_model.predict(x_test)\n",
    "acc_dt = accuracy_score(y_test,y_pred_dt)\n",
    "acc_dt"
   ]
  },
  {
   "cell_type": "code",
   "execution_count": 94,
   "metadata": {},
   "outputs": [
    {
     "data": {
      "text/plain": [
       "1.0"
      ]
     },
     "execution_count": 94,
     "metadata": {},
     "output_type": "execute_result"
    }
   ],
   "source": [
    "y_pred_train_dt = dt_model.predict(x_train)\n",
    "accuracy_score(y_train,y_pred_train_dt)"
   ]
  },
  {
   "cell_type": "code",
   "execution_count": 95,
   "metadata": {},
   "outputs": [],
   "source": [
    "criterion = ['gini','entropy']\n",
    "max_depth  = list(range(1,10))\n",
    "hyperparamters = dict(criterion = criterion, max_depth = max_depth)\n"
   ]
  },
  {
   "cell_type": "code",
   "execution_count": 96,
   "metadata": {},
   "outputs": [],
   "source": [
    "#  use hyper  parameter\n",
    "# # 1. GridSearchCV\n",
    "# # 2. RandomizedSearchCV\n",
    "tree_ = DecisionTreeClassifier(random_state=1)\n",
    "gscv = GridSearchCV(tree_, hyperparamters,cv = 5)\n",
    "dt_new_model = gscv.fit(x_train_over,y_train_over)"
   ]
  },
  {
   "cell_type": "code",
   "execution_count": 97,
   "metadata": {},
   "outputs": [
    {
     "data": {
      "text/plain": [
       "0.7777506708953403"
      ]
     },
     "execution_count": 97,
     "metadata": {},
     "output_type": "execute_result"
    }
   ],
   "source": [
    "y_best_pred_dt=dt_new_model.predict(x_test)\n",
    "acc_dt_best = accuracy_score(y_test,y_best_pred_dt)\n",
    "acc_dt_best"
   ]
  },
  {
   "cell_type": "code",
   "execution_count": 98,
   "metadata": {},
   "outputs": [
    {
     "data": {
      "text/plain": [
       "0.7909824192244942"
      ]
     },
     "execution_count": 98,
     "metadata": {},
     "output_type": "execute_result"
    }
   ],
   "source": [
    "y_best_train_dt = dt_new_model.predict(x_train)\n",
    "accuracy_score(y_train,y_best_train_dt)"
   ]
  },
  {
   "cell_type": "markdown",
   "metadata": {},
   "source": [
    "# Random Forest"
   ]
  },
  {
   "cell_type": "code",
   "execution_count": 99,
   "metadata": {},
   "outputs": [],
   "source": [
    "from sklearn.ensemble import RandomForestClassifier"
   ]
  },
  {
   "cell_type": "code",
   "execution_count": 100,
   "metadata": {},
   "outputs": [
    {
     "data": {
      "text/plain": [
       "RandomForestClassifier(random_state=1)"
      ]
     },
     "execution_count": 100,
     "metadata": {},
     "output_type": "execute_result"
    }
   ],
   "source": [
    "rf_model = RandomForestClassifier(random_state=1)\n",
    "rf_model.fit(x_train_over,y_train_over)"
   ]
  },
  {
   "cell_type": "code",
   "execution_count": 101,
   "metadata": {},
   "outputs": [
    {
     "data": {
      "text/plain": [
       "0.815747743352037"
      ]
     },
     "execution_count": 101,
     "metadata": {},
     "output_type": "execute_result"
    }
   ],
   "source": [
    "y_pred_rf= rf_model.predict(x_test)\n",
    "acc_rf = accuracy_score(y_test,y_pred_rf)\n",
    "acc_rf"
   ]
  },
  {
   "cell_type": "code",
   "execution_count": 102,
   "metadata": {},
   "outputs": [
    {
     "data": {
      "text/plain": [
       "1.0"
      ]
     },
     "execution_count": 102,
     "metadata": {},
     "output_type": "execute_result"
    }
   ],
   "source": [
    "# to check accuracy on training data\n",
    "y_pred_train_rf = rf_model.predict(x_train)\n",
    "accuracy_score(y_train,y_pred_train_rf)"
   ]
  },
  {
   "cell_type": "markdown",
   "metadata": {},
   "source": [
    "### Hyper parameteer tunning\n"
   ]
  },
  {
   "cell_type": "code",
   "execution_count": 103,
   "metadata": {},
   "outputs": [],
   "source": [
    "criterion = ['gini','entropy']\n",
    "max_depth  = list(range(1,10))\n",
    "n_estimators = list(range(100,120))\n",
    "hyperparamters = dict(criterion = criterion, max_depth = max_depth, n_estimators = n_estimators)\n"
   ]
  },
  {
   "cell_type": "code",
   "execution_count": 104,
   "metadata": {},
   "outputs": [],
   "source": [
    "# # 2. RandomizedSearchCV\n",
    "RT = RandomForestClassifier(random_state=1)\n",
    "rscv = RandomizedSearchCV(RT, hyperparamters, cv = 5)1e \n",
    "rt_new_model = rscv.fit(x_train_over,y_train_over)\n"
   ]
  },
  {
   "cell_type": "code",
   "execution_count": 105,
   "metadata": {},
   "outputs": [
    {
     "data": {
      "text/plain": [
       "0.8086423517931203"
      ]
     },
     "execution_count": 105,
     "metadata": {},
     "output_type": "execute_result"
    }
   ],
   "source": [
    "y_best_pred_rf = rt_new_model.predict(x_test)\n",
    "acc_rf_best = accuracy_score(y_test,y_best_pred_rf)\n",
    "acc_rf_best"
   ]
  },
  {
   "cell_type": "code",
   "execution_count": 106,
   "metadata": {},
   "outputs": [
    {
     "data": {
      "text/plain": [
       "{'n_estimators': 118, 'max_depth': 9, 'criterion': 'gini'}"
      ]
     },
     "execution_count": 106,
     "metadata": {},
     "output_type": "execute_result"
    }
   ],
   "source": [
    "rt_new_model.best_params_"
   ]
  },
  {
   "cell_type": "code",
   "execution_count": 107,
   "metadata": {},
   "outputs": [
    {
     "data": {
      "text/plain": [
       "0.8148834301572053"
      ]
     },
     "execution_count": 107,
     "metadata": {},
     "output_type": "execute_result"
    }
   ],
   "source": [
    "y_train_pred_rf = rt_new_model.predict(x_train)\n",
    "accuracy_score(y_train,y_train_pred_rf)"
   ]
  },
  {
   "cell_type": "markdown",
   "metadata": {},
   "source": [
    "# xgboost algorithm"
   ]
  },
  {
   "cell_type": "code",
   "execution_count": 108,
   "metadata": {},
   "outputs": [],
   "source": []
  },
  {
   "cell_type": "code",
   "execution_count": 109,
   "metadata": {},
   "outputs": [
    {
     "name": "stdout",
     "output_type": "stream",
     "text": [
      "[17:02:16] WARNING: C:/Users/Administrator/workspace/xgboost-win64_release_1.4.0/src/learner.cc:1095: Starting in XGBoost 1.3.0, the default evaluation metric used with the objective 'binary:logistic' was changed from 'error' to 'logloss'. Explicitly set eval_metric if you'd like to restore the old behavior.\n"
     ]
    },
    {
     "data": {
      "text/plain": [
       "XGBClassifier(base_score=0.5, booster='gbtree', colsample_bylevel=1,\n",
       "              colsample_bynode=1, colsample_bytree=1, gamma=0, gpu_id=-1,\n",
       "              importance_type='gain', interaction_constraints='',\n",
       "              learning_rate=0.300000012, max_delta_step=0, max_depth=6,\n",
       "              min_child_weight=1, missing=nan, monotone_constraints='()',\n",
       "              n_estimators=100, n_jobs=4, num_parallel_tree=1, random_state=0,\n",
       "              reg_alpha=0, reg_lambda=1, scale_pos_weight=1, subsample=1,\n",
       "              tree_method='exact', validate_parameters=1, verbosity=None)"
      ]
     },
     "execution_count": 109,
     "metadata": {},
     "output_type": "execute_result"
    }
   ],
   "source": [
    "xgbst_model = XGBClassifier()\n",
    "xgbst_model.fit(x_train_over,y_train_over)"
   ]
  },
  {
   "cell_type": "code",
   "execution_count": 110,
   "metadata": {},
   "outputs": [
    {
     "data": {
      "text/plain": [
       "0.786441815076848"
      ]
     },
     "execution_count": 110,
     "metadata": {},
     "output_type": "execute_result"
    }
   ],
   "source": [
    "y_pred_xgbst  = xgbst_model.predict(x_test)\n",
    "acc_xg = accuracy_score(y_test,y_pred_xgbst)\n",
    "acc_xg"
   ]
  },
  {
   "cell_type": "code",
   "execution_count": 111,
   "metadata": {},
   "outputs": [
    {
     "data": {
      "text/plain": [
       "0.8181464708842231"
      ]
     },
     "execution_count": 111,
     "metadata": {},
     "output_type": "execute_result"
    }
   ],
   "source": [
    "y_pred_train_xgbst =  xgbst_model.predict(x_train)\n",
    "accuracy_score(y_train,y_pred_train_xgbst)"
   ]
  },
  {
   "cell_type": "code",
   "execution_count": 112,
   "metadata": {},
   "outputs": [
    {
     "data": {
      "text/html": [
       "<div>\n",
       "<style scoped>\n",
       "    .dataframe tbody tr th:only-of-type {\n",
       "        vertical-align: middle;\n",
       "    }\n",
       "\n",
       "    .dataframe tbody tr th {\n",
       "        vertical-align: top;\n",
       "    }\n",
       "\n",
       "    .dataframe thead th {\n",
       "        text-align: right;\n",
       "    }\n",
       "</style>\n",
       "<table border=\"1\" class=\"dataframe\">\n",
       "  <thead>\n",
       "    <tr style=\"text-align: right;\">\n",
       "      <th></th>\n",
       "      <th>Model</th>\n",
       "      <th>Best_Accuracy</th>\n",
       "    </tr>\n",
       "  </thead>\n",
       "  <tbody>\n",
       "    <tr>\n",
       "      <th>0</th>\n",
       "      <td>logistic</td>\n",
       "      <td>0.795834</td>\n",
       "    </tr>\n",
       "    <tr>\n",
       "      <th>1</th>\n",
       "      <td>decision</td>\n",
       "      <td>0.777751</td>\n",
       "    </tr>\n",
       "    <tr>\n",
       "      <th>2</th>\n",
       "      <td>r_forest</td>\n",
       "      <td>0.808642</td>\n",
       "    </tr>\n",
       "    <tr>\n",
       "      <th>3</th>\n",
       "      <td>KNN</td>\n",
       "      <td>0.792419</td>\n",
       "    </tr>\n",
       "    <tr>\n",
       "      <th>4</th>\n",
       "      <td>XGBOOST</td>\n",
       "      <td>0.786442</td>\n",
       "    </tr>\n",
       "  </tbody>\n",
       "</table>\n",
       "</div>"
      ],
      "text/plain": [
       "      Model  Best_Accuracy\n",
       "0  logistic       0.795834\n",
       "1  decision       0.777751\n",
       "2  r_forest       0.808642\n",
       "3       KNN       0.792419\n",
       "4   XGBOOST       0.786442"
      ]
     },
     "execution_count": 112,
     "metadata": {},
     "output_type": "execute_result"
    }
   ],
   "source": [
    "dict1 = {'Model':['logistic','decision','r_forest','KNN','XGBOOST'],'Best_Accuracy':[acc_lr_best,acc_dt_best,acc_rf_best,acc_knn,acc_xg,]}\n",
    "Df_model_accuracy = pd.DataFrame(dict1)\n",
    "Df_model_accuracy"
   ]
  },
  {
   "cell_type": "code",
   "execution_count": 113,
   "metadata": {},
   "outputs": [
    {
     "data": {
      "text/plain": [
       "31"
      ]
     },
     "execution_count": 113,
     "metadata": {},
     "output_type": "execute_result"
    }
   ],
   "source": [
    "a = np.zeros(len(x_test.columns))\n",
    "len(a)\n"
   ]
  },
  {
   "cell_type": "code",
   "execution_count": 119,
   "metadata": {},
   "outputs": [],
   "source": [
    "def predict_price(loan_amnt,term,int_rate,emp_length,home_ownership,annual_inc,purpose,dti,revol_util,total_acc,longest_credit_length,verification_status):\n",
    "    loc_index_hm = x_test.columns.get_loc(home_ownership)\n",
    "    loc_index_pur =x_test.columns.get_loc(purpose)\n",
    "    loc_index_ver =x_test.columns.get_loc(verification_status)\n",
    "    a = np.zeros(len(x_test.columns))\n",
    "    a[0] = loan_amnt\n",
    "    a[1] = term\n",
    "    a[2] = int_rate\n",
    "    a[3] = annual_inc\n",
    "    a[4] = dti\n",
    "    a[5] = revol_util\n",
    "    a[6] = total_acc\n",
    "    a[7] = longest_credit_length\n",
    "    a[8] = emp_length\n",
    "    a[loc_index_hm] = 1\n",
    "    a[loc_index_pur] =1\n",
    "    a[loc_index_ver] =1\n",
    "\n",
    "    return logistic_model_os.predict([a])[0]"
   ]
  },
  {
   "cell_type": "code",
   "execution_count": 120,
   "metadata": {
    "scrolled": true
   },
   "outputs": [
    {
     "data": {
      "text/plain": [
       "0"
      ]
     },
     "execution_count": 120,
     "metadata": {},
     "output_type": "execute_result"
    }
   ],
   "source": [
    "predict_price(5000,36,10.65,10.0,'RENT',24000.0,'credit_card',27.65,83.7,9.0,26.0,'verified')"
   ]
  },
  {
   "cell_type": "code",
   "execution_count": null,
   "metadata": {},
   "outputs": [],
   "source": [
    "df"
   ]
  },
  {
   "cell_type": "code",
   "execution_count": 125,
   "metadata": {},
   "outputs": [],
   "source": [
    "import pickle\n",
    "with open('bad_loan_prediction_.pickle','wb') as f:\n",
    "    pickle.dump(logistic_model_os,f)"
   ]
  },
  {
   "cell_type": "code",
   "execution_count": 132,
   "metadata": {},
   "outputs": [],
   "source": [
    "import pickle\n",
    "pickle.dump(logistic_model_os,open('bad_loan_pred.pickle','wb'))"
   ]
  },
  {
   "cell_type": "code",
   "execution_count": 124,
   "metadata": {},
   "outputs": [],
   "source": [
    "import json\n",
    "columns = {\n",
    "    'data_columns' : [col.lower() for col in x_test.columns]}\n",
    "with open(\"Name_of_.json\",\"w\") as f:\n",
    "    f.write(json.dumps(columns))"
   ]
  },
  {
   "cell_type": "code",
   "execution_count": 133,
   "metadata": {},
   "outputs": [],
   "source": [
    "import pickle\n",
    "with open('bad.pickle','wb') as f:\n",
    "    pickle.dump(rf_model,f)"
   ]
  },
  {
   "cell_type": "code",
   "execution_count": null,
   "metadata": {},
   "outputs": [],
   "source": []
  }
 ],
 "metadata": {
  "kernelspec": {
   "display_name": "Python 3",
   "language": "python",
   "name": "python3"
  }
 },
 "nbformat": 4,
 "nbformat_minor": 4
}
